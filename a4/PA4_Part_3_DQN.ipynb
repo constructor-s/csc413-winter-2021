{
  "nbformat": 4,
  "nbformat_minor": 0,
  "metadata": {
    "colab": {
      "name": "PA4 Part 3: DQN",
      "provenance": [],
      "collapsed_sections": [],
      "include_colab_link": true
    },
    "kernelspec": {
      "name": "python3",
      "display_name": "Python 3"
    }
  },
  "cells": [
    {
      "cell_type": "markdown",
      "metadata": {
        "id": "view-in-github",
        "colab_type": "text"
      },
      "source": [
        "<a href=\"https://colab.research.google.com/github/constructor-s/csc413-winter-2021/blob/main/a4/PA4_Part_3_DQN.ipynb\" target=\"_parent\"><img src=\"https://colab.research.google.com/assets/colab-badge.svg\" alt=\"Open In Colab\"/></a>"
      ]
    },
    {
      "cell_type": "markdown",
      "metadata": {
        "id": "V3szwJAdaoQa"
      },
      "source": [
        "## Enable rendering OpenAI Gym environments from CoLab\n",
        "\n",
        "In this assignemnt, We will use [OpenAI Gym](https://gym.openai.com/) for rendering game envionment for our agent to play and learn. It is possible and important to visualize the game your agent is playing, even on Colab. This section imports the necessary package and functions needed to generate a video in Colab. The video processing steps credit to [here](https://colab.research.google.com/drive/1flu31ulJlgiRL1dnN2ir8wGh9p7Zij2t)."
      ]
    },
    {
      "cell_type": "code",
      "metadata": {
        "id": "8rFaTvFab6Kz"
      },
      "source": [
        "!pip install gym pyvirtualdisplay > /dev/null 2>&1\n",
        "!apt-get install -y xvfb python-opengl ffmpeg > /dev/null 2>&1"
      ],
      "execution_count": 1,
      "outputs": []
    },
    {
      "cell_type": "code",
      "metadata": {
        "id": "M9fFfA-gb8oC",
        "colab": {
          "base_uri": "https://localhost:8080/"
        },
        "outputId": "f4bc3ed1-47cb-4787-f963-edf863adee0d"
      },
      "source": [
        "!apt-get update > /dev/null 2>&1\n",
        "!apt-get install cmake > /dev/null 2>&1\n",
        "!pip install --upgrade setuptools 2>&1\n",
        "!pip install ez_setup > /dev/null 2>&1\n",
        "!pip install gym[atari] > /dev/null 2>&1"
      ],
      "execution_count": 2,
      "outputs": [
        {
          "output_type": "stream",
          "text": [
            "Requirement already up-to-date: setuptools in /usr/local/lib/python3.7/dist-packages (54.2.0)\n"
          ],
          "name": "stdout"
        }
      ]
    },
    {
      "cell_type": "markdown",
      "metadata": {
        "id": "QfTPg6uZckCm"
      },
      "source": [
        "Import openAI gym and define the functions used to show the video."
      ]
    },
    {
      "cell_type": "code",
      "metadata": {
        "id": "JLl9cs6ncAf0"
      },
      "source": [
        "import gym\n",
        "from gym.wrappers import Monitor\n",
        "import glob\n",
        "import io\n",
        "import base64\n",
        "from IPython.display import HTML\n",
        "from pyvirtualdisplay import Display\n",
        "from IPython import display as ipythondisplay\n",
        "\n",
        "display = Display(visible=0, size=(1400, 900))\n",
        "display.start()\n",
        "\n",
        "\"\"\"\n",
        "Utility functions to enable video recording of gym environment \n",
        "and displaying it.\n",
        "To enable video, just do \"env = wrap_env(env)\"\"\n",
        "\"\"\"\n",
        "\n",
        "def show_video():\n",
        "  mp4list = glob.glob('video/*.mp4')\n",
        "  if len(mp4list) > 0:\n",
        "    mp4 = mp4list[0]\n",
        "    video = io.open(mp4, 'r+b').read()\n",
        "    encoded = base64.b64encode(video)\n",
        "    ipythondisplay.display(HTML(data='''<video alt=\"test\" autoplay \n",
        "                loop controls style=\"height: 400px;\">\n",
        "                <source src=\"data:video/mp4;base64,{0}\" type=\"video/mp4\" />\n",
        "             </video>'''.format(encoded.decode('ascii'))))\n",
        "  else: \n",
        "    print(\"Could not find video\")\n",
        "    \n",
        "\n",
        "def wrap_env(env):\n",
        "  env = Monitor(env, './video', force=True)\n",
        "  return env"
      ],
      "execution_count": 3,
      "outputs": []
    },
    {
      "cell_type": "markdown",
      "metadata": {
        "id": "UHkrflTWakKd"
      },
      "source": [
        "Import other packages:\n",
        "\n",
        "We will use Pytorch for building and learning our DQN network."
      ]
    },
    {
      "cell_type": "code",
      "metadata": {
        "id": "9KvZYSl6RrzD"
      },
      "source": [
        "import torch\n",
        "from torch import nn\n",
        "import copy\n",
        "from collections import deque\n",
        "import random\n",
        "from tqdm import tqdm\n",
        "import matplotlib.pyplot as plt"
      ],
      "execution_count": 4,
      "outputs": []
    },
    {
      "cell_type": "markdown",
      "metadata": {
        "id": "zrLGCk-3ditk"
      },
      "source": [
        "## Run the game with random agent."
      ]
    },
    {
      "cell_type": "code",
      "metadata": {
        "id": "ZMcGALcWeWfh",
        "colab": {
          "base_uri": "https://localhost:8080/",
          "height": 458
        },
        "outputId": "fa4e42de-2caf-40ed-d4f2-e298471f04b2"
      },
      "source": [
        "from torch import randint\n",
        "from time import sleep\n",
        "\n",
        "env = wrap_env(gym.make('CartPole-v0'))\n",
        "reward_arr = []\n",
        "episode_count = 20\n",
        "for i in tqdm(range(episode_count)):\n",
        "    obs, done, rew = env.reset(), False, 0\n",
        "    env.render()\n",
        "    while not done:\n",
        "        A = randint(0, env.action_space.n, (1,))\n",
        "        obs, reward, done, info = env.step(A.item())\n",
        "        rew += reward\n",
        "        sleep(0.01)\n",
        "    reward_arr.append(rew)\n",
        "print(\"average reward per episode :\", sum(reward_arr) / len(reward_arr))\n",
        "env.close()\n",
        "show_video()"
      ],
      "execution_count": 5,
      "outputs": [
        {
          "output_type": "stream",
          "text": [
            "100%|██████████| 20/20 [00:06<00:00,  3.01it/s]"
          ],
          "name": "stderr"
        },
        {
          "output_type": "stream",
          "text": [
            "average reward per episode : 21.0\n"
          ],
          "name": "stdout"
        },
        {
          "output_type": "stream",
          "text": [
            "\n"
          ],
          "name": "stderr"
        },
        {
          "output_type": "display_data",
          "data": {
            "text/html": [
              "<video alt=\"test\" autoplay \n",
              "                loop controls style=\"height: 400px;\">\n",
              "                <source src=\"data:video/mp4;base64,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\" type=\"video/mp4\" />\n",
              "             </video>"
            ],
            "text/plain": [
              "<IPython.core.display.HTML object>"
            ]
          },
          "metadata": {
            "tags": []
          }
        }
      ]
    },
    {
      "cell_type": "markdown",
      "metadata": {
        "id": "Ope0zHAjfXQh"
      },
      "source": [
        "You can see that a random agent is having trouble balancing the CartPole, just like you. However, a difficult game for human may be very simple to a computer. Let's see how we can use DQN to train a agent. "
      ]
    },
    {
      "cell_type": "markdown",
      "metadata": {
        "id": "OjP_2jn3SFgv"
      },
      "source": [
        "## Experience Replay\n",
        "\n",
        "The technique of experience replay was first proposed in to resolve temporal correlation in the input data by mixing recent experiences as well past experiences, essentially forcing the input to become independent and identically distributed (i.i.d.). It has been shown that this greatly stabilizes\n",
        "and improves the DQN training procedure."
      ]
    },
    {
      "cell_type": "code",
      "metadata": {
        "id": "SoxW1Jlnk8mS"
      },
      "source": [
        "class ExperienceReplay(object):\n",
        "      def __init__(self, length):\n",
        "        self.experience_replay = deque(maxlen=length)\n",
        "\n",
        "      def collect(self, experience):\n",
        "        self.experience_replay.append(experience)\n",
        "        return\n",
        "\n",
        "      def sample_from_experience(self, sample_size):\n",
        "        if len(self.experience_replay) < sample_size:\n",
        "            sample_size = len(self.experience_replay)\n",
        "        sample = random.sample(self.experience_replay, sample_size)\n",
        "        state = torch.tensor([exp[0] for exp in sample]).float()\n",
        "        action = torch.tensor([exp[1] for exp in sample]).float()\n",
        "        reward = torch.tensor([exp[2] for exp in sample]).float()\n",
        "        next_state = torch.tensor([exp[3] for exp in sample]).float()\n",
        "        return state, action, reward, next_state\n"
      ],
      "execution_count": 6,
      "outputs": []
    },
    {
      "cell_type": "markdown",
      "metadata": {
        "id": "CgXwmV2im4Sx"
      },
      "source": [
        "## Build our DQN Network\n",
        "\n",
        "We will use a simple multi-layer neural network to learn the optimal actions. We will use Adam Optimizor and MSE loss for training."
      ]
    },
    {
      "cell_type": "code",
      "metadata": {
        "id": "Wmd1pfuRm7MQ"
      },
      "source": [
        "class DQN_Network:\n",
        "\n",
        "    def __init__(self, layer_size_list, lr, seed=1423):\n",
        "        torch.manual_seed(seed)\n",
        "        self.policy_net = self.create_network(layer_size_list)\n",
        "        self.target_net = copy.deepcopy(self.policy_net)\n",
        "  \n",
        "        self.loss_fn = torch.nn.MSELoss()\n",
        "        self.optimizer = torch.optim.Adam(self.policy_net.parameters(), lr=lr)\n",
        "\n",
        "        self.step = 0\n",
        "        self.gamma = torch.tensor(0.95).float()\n",
        "        return\n",
        "\n",
        "    def create_network(self, layer_size_list):\n",
        "        assert len(layer_size_list) > 1\n",
        "\n",
        "        layers = []\n",
        "        for i in range(len(layer_size_list) - 1):\n",
        "            linear = nn.Linear(layer_size_list[i], layer_size_list[i + 1])\n",
        "\n",
        "            if i < len(layer_size_list) - 2:\n",
        "              activation = nn.Tanh()\n",
        "            else:\n",
        "              activation = nn.Identity()\n",
        "\n",
        "            layers += (linear, activation)\n",
        "        return nn.Sequential(*layers)\n",
        "\n",
        "    def load_pretrained_model(self, model_path):\n",
        "        self.policy_net.load_state_dict(torch.load(model_path))\n",
        "\n",
        "    def save_trained_model(self, model_path=\"cartpole-dqn.pth\"):\n",
        "        torch.save(self.policy_net.state_dict(), model_path)\n"
      ],
      "execution_count": 7,
      "outputs": []
    },
    {
      "cell_type": "markdown",
      "metadata": {
        "id": "xKVV16YctASm"
      },
      "source": [
        "## **[Your task]**: complete the function that chooses the next action\n",
        "\n",
        "Choose next action based on **$\\epsilon$-greedy**:\n",
        "\n",
        "\\begin{align}\\text{where} \\quad \\mathcal{a_{t+1}} = \\begin{cases}\n",
        "     \\text{argmax}_{a}Q(a, s)  & \\text{with probability }: 1 - \\epsilon, \\text{exploitation}\\\\\n",
        "     \\text{Uniform}\\{a_{1},...,a_{n}\\} & \\text{with probability}:   \\epsilon, \\text{exploration} \\\\\n",
        "   \\end{cases}\\end{align}"
      ]
    },
    {
      "cell_type": "code",
      "metadata": {
        "id": "iE0gVweYs8xW"
      },
      "source": [
        "def get_action(model, state, action_space_len, epsilon):\n",
        "    # We do not require gradient at this point, because this function will be used either\n",
        "    # during experience collection or during inference\n",
        "\n",
        "    with torch.no_grad():\n",
        "        Qp = model.policy_net(torch.from_numpy(state).float())\n",
        "    Q_value, action = torch.max(Qp, axis=0)\n",
        "\n",
        "    ## TODO: select action and action\n",
        "    if torch.rand(1) < epsilon:\n",
        "        action = torch.randint(0, action_space_len, size=(1,))\n",
        "    \n",
        "    return action"
      ],
      "execution_count": 8,
      "outputs": []
    },
    {
      "cell_type": "markdown",
      "metadata": {
        "id": "iF9a5-IbazjQ"
      },
      "source": [
        "### **[Your task]**: complete the function that train the network for one step\n",
        "\n",
        "Here, you can find an ``train`` function that performs a\n",
        "single step of the optimization. \n",
        "\n",
        "For our training update rule, the loss you are trying to minimize is:\n",
        "\n",
        "\\begin{align}\\text{loss} = Q(s, a) - (r + \\gamma \\max_a Q(s', a))\\end{align}"
      ]
    },
    {
      "cell_type": "code",
      "metadata": {
        "id": "mtx4FAiab0Hp"
      },
      "source": [
        "def train(model, batch_size):\n",
        "    state, action, reward, next_state = memory.sample_from_experience(sample_size=batch_size)\n",
        "\n",
        "    # TODO: predict expected return of current state using main network\n",
        "    Qp = model.policy_net(state)\n",
        "    Qp = Qp.gather(dim=1, index=action.view(-1, 1).long()).squeeze()\n",
        "\n",
        "    # TODO: get target return using target network\n",
        "    Qp_target = model.target_net(next_state)\n",
        "    Qp_target, _ = Qp_target.max(dim=1)\n",
        "\n",
        "    # TODO: compute the loss\n",
        "    # assert Qp.shape == Qp_target.shape, (Qp.shape, Qp_target.shape)\n",
        "    loss = model.loss_fn(Qp, reward + model.gamma * Qp_target)\n",
        "    model.optimizer.zero_grad()\n",
        "    loss.backward(retain_graph=True)\n",
        "    model.optimizer.step()\n",
        "\n",
        "    model.step += 1\n",
        "    if model.step % 5 == 0:\n",
        "        model.target_net.load_state_dict(model.policy_net.state_dict())\n",
        "\n",
        "    return loss.item()"
      ],
      "execution_count": 9,
      "outputs": []
    },
    {
      "cell_type": "markdown",
      "metadata": {
        "id": "uskoe87Uz-Jg"
      },
      "source": [
        "### **[Your task]**: Finish the training loop\n",
        "\n",
        "In this part, you can play around with ```exp_replay_size```, ```episode```, ```epsilon``` and the \"episodo decay\" logic to train your model."
      ]
    },
    {
      "cell_type": "code",
      "metadata": {
        "id": "3NfNnyD6SPpN",
        "colab": {
          "base_uri": "https://localhost:8080/"
        },
        "outputId": "8b765a73-867d-4cc6-c326-62a43b03866c"
      },
      "source": [
        "# Create the model\n",
        "env = gym.make('CartPole-v0')\n",
        "input_dim = env.observation_space.shape[0]\n",
        "output_dim = env.action_space.n\n",
        "agent = DQN_Network(layer_size_list=[input_dim, 64, output_dim], lr=1e-3)\n",
        "\n",
        "# Main training loop\n",
        "losses_list, reward_list, episode_len_list, epsilon_list = [], [], [], []\n",
        "\n",
        "# TODO: try different values, it normally takes more than 6k episodes to train\n",
        "exp_replay_size = 100\n",
        "memory = ExperienceReplay(exp_replay_size)\n",
        "episodes = 10000\n",
        "epsilon = 1 # episilon start from 1 and decay gradually. \n",
        "\n",
        "# initiliaze experiance replay\n",
        "index = 0\n",
        "for i in range(exp_replay_size):\n",
        "    obs = env.reset()\n",
        "    done = False\n",
        "    while not done:\n",
        "        A = get_action(agent, obs, env.action_space.n, epsilon=1)\n",
        "        obs_next, reward, done, _ = env.step(A.item())\n",
        "        memory.collect([obs, A.item(), reward, obs_next])\n",
        "        obs = obs_next\n",
        "        index += 1\n",
        "        if index > exp_replay_size:\n",
        "            break\n",
        "\n",
        "index = 128\n",
        "for i in tqdm(range(episodes)):\n",
        "    obs, done, losses, ep_len, rew = env.reset(), False, 0, 0, 0\n",
        "    while not done:\n",
        "        ep_len += 1\n",
        "        A = get_action(agent, obs, env.action_space.n, epsilon)\n",
        "        obs_next, reward, done, _ = env.step(A.item())\n",
        "        memory.collect([obs, A.item(), reward, obs_next])\n",
        "\n",
        "        obs = obs_next\n",
        "        rew += reward\n",
        "        index += 1\n",
        "\n",
        "        if index > 128:\n",
        "            index = 0\n",
        "            for j in range(4):\n",
        "                loss = train(agent, batch_size=16)\n",
        "                losses += loss\n",
        "    \n",
        "    # TODO: add epsilon decay rule here! \n",
        "    epsilon *= 0.999\n",
        "\n",
        "    losses_list.append(losses / ep_len), reward_list.append(rew)\n",
        "    episode_len_list.append(ep_len), epsilon_list.append(epsilon)\n",
        "\n",
        "print(\"Saving trained model\")\n",
        "agent.save_trained_model(\"cartpole-dqn.pth\")"
      ],
      "execution_count": 16,
      "outputs": [
        {
          "output_type": "stream",
          "text": [
            "100%|██████████| 10000/10000 [02:42<00:00, 61.37it/s]"
          ],
          "name": "stderr"
        },
        {
          "output_type": "stream",
          "text": [
            "Saving trained model\n"
          ],
          "name": "stdout"
        },
        {
          "output_type": "stream",
          "text": [
            "\n"
          ],
          "name": "stderr"
        }
      ]
    },
    {
      "cell_type": "markdown",
      "metadata": {
        "id": "CCow7jNXf5YT"
      },
      "source": [
        "## Last Step: evaluate your trained model!\n",
        "\n",
        "First we can plot the reward vs. episode:"
      ]
    },
    {
      "cell_type": "code",
      "metadata": {
        "id": "-Hy_FP7yeXA4",
        "colab": {
          "base_uri": "https://localhost:8080/",
          "height": 295
        },
        "outputId": "4f1a8fc8-e8df-4929-c728-923936196231"
      },
      "source": [
        "def plot_reward(r):\n",
        "    plt.figure(2)\n",
        "    plt.clf()\n",
        "    plt.title('Result')\n",
        "    plt.xlabel('Episode')\n",
        "    plt.ylabel('Reward')\n",
        "    plt.plot(r)\n",
        "\n",
        "plot_reward(reward_list)"
      ],
      "execution_count": 17,
      "outputs": [
        {
          "output_type": "display_data",
          "data": {
            "image/png": "[encoded data removed]",
            "text/plain": [
              "<Figure size 432x288 with 1 Axes>"
            ]
          },
          "metadata": {
            "tags": [],
            "needs_background": "light"
          }
        }
      ]
    },
    {
      "cell_type": "code",
      "metadata": {
        "id": "EMEivKldTGVG",
        "colab": {
          "base_uri": "https://localhost:8080/",
          "height": 458
        },
        "outputId": "e00f0f4e-35c1-47bc-a485-bf1222c9d478"
      },
      "source": [
        "env = wrap_env(gym.make('CartPole-v0'))\n",
        "\n",
        "input_dim = env.observation_space.shape[0]\n",
        "output_dim = env.action_space.n\n",
        "model_validate = DQN_Network(layer_size_list=[input_dim, 64, output_dim], lr=1e-3)\n",
        "model_validate.load_pretrained_model(\"cartpole-dqn.pth\")\n",
        "\n",
        "reward_arr = []\n",
        "for i in tqdm(range(300)):\n",
        "    obs, done, rew = env.reset(), False, 0\n",
        "    env.render()\n",
        "    while not done:\n",
        "        A = get_action(model_validate, obs, env.action_space.n, epsilon=0)\n",
        "        obs, reward, done, info = env.step(A.item())\n",
        "        rew += reward\n",
        "        # sleep(0.01)\n",
        "\n",
        "    reward_arr.append(rew)\n",
        "print(\"average reward per episode :\", sum(reward_arr) / len(reward_arr))\n",
        "env.close()\n",
        "show_video()"
      ],
      "execution_count": 18,
      "outputs": [
        {
          "output_type": "stream",
          "text": [
            "100%|██████████| 300/300 [00:24<00:00, 12.30it/s]"
          ],
          "name": "stderr"
        },
        {
          "output_type": "stream",
          "text": [
            "average reward per episode : 200.0\n"
          ],
          "name": "stdout"
        },
        {
          "output_type": "stream",
          "text": [
            "\n"
          ],
          "name": "stderr"
        },
        {
          "output_type": "display_data",
          "data": {
            "text/html": [
              "<video alt=\"test\" autoplay \n",
              "                loop controls style=\"height: 400px;\">\n",
              "                <source src=\"data:video/mp4;base64,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\" type=\"video/mp4\" />\n",
              "             </video>"
            ],
            "text/plain": [
              "<IPython.core.display.HTML object>"
            ]
          },
          "metadata": {
            "tags": []
          }
        }
      ]
    },
    {
      "cell_type": "code",
      "metadata": {
        "id": "59oFyUAiwJgC"
      },
      "source": [
        ""
      ],
      "execution_count": 18,
      "outputs": []
    }
  ]
}