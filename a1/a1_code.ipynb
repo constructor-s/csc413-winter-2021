{
  "nbformat": 4,
  "nbformat_minor": 0,
  "metadata": {
    "colab": {
      "name": "Copy of a1-code 1.2 20210201.ipynb",
      "provenance": [],
      "collapsed_sections": [
        "fr75-y9A4zcM"
      ],
      "include_colab_link": true
    },
    "kernelspec": {
      "display_name": "Python 3",
      "language": "python",
      "name": "python3"
    },
    "language_info": {
      "codemirror_mode": {
        "name": "ipython",
        "version": 3
      },
      "file_extension": ".py",
      "mimetype": "text/x-python",
      "name": "python",
      "nbconvert_exporter": "python",
      "pygments_lexer": "ipython3",
      "version": "3.6.10-final"
    }
  },
  "cells": [
    {
      "cell_type": "markdown",
      "metadata": {
        "id": "view-in-github",
        "colab_type": "text"
      },
      "source": [
        "<a href=\"https://colab.research.google.com/github/constructor-s/csc413-winter-2021/blob/main/a1/a1_code.ipynb\" target=\"_parent\"><img src=\"https://colab.research.google.com/assets/colab-badge.svg\" alt=\"Open In Colab\"/></a>"
      ]
    },
    {
      "cell_type": "markdown",
      "metadata": {
        "id": "fr75-y9A4zcM"
      },
      "source": [
        "# Programming Assignment 1: Learning Distributed Word Representations\n",
        "**Version**: 1.2\n",
        "\n",
        "**Changes by Version:** \n",
        "* (v1.1) <br>\n",
        "\t1. Part 1 Description: indicated that each word is associated with two embedding vectors and two biases <br>\n",
        "\t2. Part 1: Updated `calculate_log_co_occurence` to include the last pair of consecutive words as well <br>\n",
        "\t3. Part 2: Updated question description for 2.1 <br>\n",
        "\t4. Part 4: Updated answer requirement for 4.1 <br>\n",
        "\t5. (1.3) Fixed symmetric GLoVE gradient <br>\n",
        "\t6. (1.3) Clarified that W_tilde and b_tilde gradients also need to be implemented <br>\n",
        "\t7. (2) Removed extra space leading up to docstring for `compute_loss_derivative` <br>\n",
        "* (v1.2) <br>\n",
        "\t1. (1.4) Updated the training function `train_GLoVE` to not use inplace update (e.g. `W = W - learning_rate * grad_W` instead), so the initial weight variables are not overwritten between asymmetric and symmetric GLoVE models. <br>\n",
        "\t2. (2) Noted that `compute_loss_derivative` input argument `target_mask` is 3D tensor with shape `[batch_size x context_len x 1]` \n",
        "\n",
        "\n",
        "**Version Release Date**: 2021-01-27\n",
        "\n",
        "**Due Date**:Thursday, Feb.  4, at 11:59pm\n",
        "\n",
        "Based on an assignment by George Dahl\n",
        "\n",
        "For CSC413/2516 in Winter 2021 with Professor Jimmy Ba and Professor Bo Wang\n",
        "\n",
        "**Submission:**\n",
        "You must submit two files through MarkUs: \n",
        "1. [ ] A PDF file containing your writeup, titled *a1-writeup.pdf*, which will be the PDF export of this notebook (i.e., by printing this notebook webpage as PDF). Your writeup must be typed. There will be sections in the notebook for you to write your responses. Make sure that the relevant outputs (e.g. `print_gradients()` outputs, plots, etc.) are included and clearly visible. \n",
        "2. [ ] This `a1-code.ipynb` iPython Notebook. \n",
        "\n",
        "The programming assignments are individual work. See the Course Syllabus for detailed policies. \n",
        "\n",
        "You should attempt all questions for this assignment. Most of them can be answered at least partially even if you were unable to finish earlier questions. If you think your computational results are incorrect, please say so; that may help you get partial credit. \n",
        "    \n",
        "The teaching assistants for this assignment are Harris Chan and Summer Tao. Send your email with subject \"*\\[CSC413\\] PA1*\" to mailto:csc413-2021-01-tas@cs.toronto.edu or post on Piazza with the tag `pa1`.\n",
        "    \n",
        "# Introduction\n",
        "In this assignment we will learn about word embeddings and make neural networks learn about words.\n",
        "We could try to match statistics about the words, or we could train a network that takes a sequence of words as input and learns to predict the word that comes next.\n",
        "        \n",
        "This assignment will ask you to implement a linear embedding and then the backpropagation computations for a neural language model and then run some experiments to analyze the learned representation.\n",
        "The amount of code you have to write is very short but each line will require you to think very carefully.\n",
        "You will need to derive the updates mathematically, and then implement them using matrix and vector operations in NumPy."
      ]
    },
    {
      "cell_type": "markdown",
      "metadata": {
        "id": "-UUSJPdr3Ge_"
      },
      "source": [
        "# Starter code and data\n",
        "\n",
        "First, perform the required imports for your code:\n"
      ]
    },
    {
      "cell_type": "code",
      "metadata": {
        "id": "CRwuwhoJ3Knl"
      },
      "source": [
        "import collections\n",
        "import pickle\n",
        "import numpy as np\n",
        "import os\n",
        "from tqdm import tqdm\n",
        "import pylab\n",
        "from six.moves.urllib.request import urlretrieve\n",
        "import tarfile\n",
        "import sys\n",
        "\n",
        "TINY = 1e-30\n",
        "EPS = 1e-4\n",
        "nax = np.newaxis"
      ],
      "execution_count": 1,
      "outputs": []
    },
    {
      "cell_type": "markdown",
      "metadata": {
        "id": "qNLvRXdy3NDO"
      },
      "source": [
        "If you're using colaboratory, this following script creates a folder - here we used 'CSC413/A1' - in order to download and store the data. If you're not using colaboratory, then set the path to wherever you want the contents to be stored at locally.\n",
        "\n",
        "You can also manually download and unzip the data from [http://www.cs.toronto.edu/~jba/a1_data.tar.gz] and put them in the same folder as where you store this notebook. \n",
        "\n",
        "Feel free to use a different way to access the files *data.pk* , *partially_trained.pk*, and *raw_sentences.txt*. \n",
        "\n",
        "The file *raw_sentences.txt* contains the sentences that we will be using for this assignment.\n",
        "These sentences are fairly simple ones and cover a vocabulary of only 250 words (+ 1 special `[MASK]` token word).\n",
        "\n",
        "\n",
        "\n"
      ]
    },
    {
      "cell_type": "code",
      "metadata": {
        "id": "Gkug8am63SzY",
        "colab": {
          "base_uri": "https://localhost:8080/"
        },
        "outputId": "5c7cebb9-8e8e-45dd-dfc8-56e32e597dca"
      },
      "source": [
        "######################################################################\n",
        "# Setup working directory\n",
        "######################################################################\n",
        "# Change this to a local path if running locally\n",
        "%mkdir -p /content/CSC413/A1/\n",
        "%cd /content/CSC413/A1\n",
        "\n",
        "######################################################################\n",
        "# Helper functions for loading data\n",
        "######################################################################\n",
        "# adapted from \n",
        "# https://github.com/fchollet/keras/blob/master/keras/datasets/cifar10.py\n",
        "\n",
        "def get_file(fname,\n",
        "             origin,\n",
        "             untar=False,\n",
        "             extract=False,\n",
        "             archive_format='auto',\n",
        "             cache_dir='data'):\n",
        "    datadir = os.path.join(cache_dir)\n",
        "    if not os.path.exists(datadir):\n",
        "        os.makedirs(datadir)\n",
        "\n",
        "    if untar:\n",
        "        untar_fpath = os.path.join(datadir, fname)\n",
        "        fpath = untar_fpath + '.tar.gz'\n",
        "    else:\n",
        "        fpath = os.path.join(datadir, fname)\n",
        "    \n",
        "    print('File path: %s' % fpath)\n",
        "    if not os.path.exists(fpath):\n",
        "        print('Downloading data from', origin)\n",
        "\n",
        "        error_msg = 'URL fetch failure on {}: {} -- {}'\n",
        "        try:\n",
        "            try:\n",
        "                urlretrieve(origin, fpath)\n",
        "            except URLError as e:\n",
        "                raise Exception(error_msg.format(origin, e.errno, e.reason))\n",
        "            except HTTPError as e:\n",
        "                raise Exception(error_msg.format(origin, e.code, e.msg))\n",
        "        except (Exception, KeyboardInterrupt) as e:\n",
        "            if os.path.exists(fpath):\n",
        "                os.remove(fpath)\n",
        "            raise\n",
        "\n",
        "    if untar:\n",
        "        if not os.path.exists(untar_fpath):\n",
        "            print('Extracting file.')\n",
        "            with tarfile.open(fpath) as archive:\n",
        "                archive.extractall(datadir)\n",
        "        return untar_fpath\n",
        "\n",
        "    if extract:\n",
        "        _extract_archive(fpath, datadir, archive_format)\n",
        "\n",
        "    return fpath"
      ],
      "execution_count": 2,
      "outputs": [
        {
          "output_type": "stream",
          "text": [
            "/content/CSC413/A1\n"
          ],
          "name": "stdout"
        }
      ]
    },
    {
      "cell_type": "code",
      "metadata": {
        "id": "KUQjRpWqnkzk",
        "colab": {
          "base_uri": "https://localhost:8080/"
        },
        "outputId": "3a93dbc9-52b6-42a1-a9c9-aeb388941a7e"
      },
      "source": [
        "# Download the dataset and partially pre-trained model\n",
        "get_file(fname='a1_data', \n",
        "                         origin='http://www.cs.toronto.edu/~jba/a1_data.tar.gz', \n",
        "                         untar=True)\n",
        "drive_location = 'data'\n",
        "PARTIALLY_TRAINED_MODEL = drive_location + '/' + 'partially_trained.pk'\n",
        "data_location = drive_location + '/' + 'data.pk'"
      ],
      "execution_count": 3,
      "outputs": [
        {
          "output_type": "stream",
          "text": [
            "File path: data/a1_data.tar.gz\n",
            "Downloading data from http://www.cs.toronto.edu/~jba/a1_data.tar.gz\n",
            "Extracting file.\n"
          ],
          "name": "stdout"
        }
      ]
    },
    {
      "cell_type": "markdown",
      "metadata": {
        "id": "Qna9z_wJ3U5e"
      },
      "source": [
        "We have already extracted the 4-grams from this dataset and divided them into training, validation, and test sets.\n",
        "To inspect this data, run the following:"
      ]
    },
    {
      "cell_type": "code",
      "metadata": {
        "id": "RD1LN16d3a0u",
        "colab": {
          "base_uri": "https://localhost:8080/"
        },
        "outputId": "7c95620c-d1e5-4c92-c2ee-6961833e3f56"
      },
      "source": [
        "data = pickle.load(open(data_location, 'rb'))\n",
        "print(data['vocab'][0]) # First word in vocab is [MASK] \n",
        "print(data['vocab'][1]) \n",
        "print(len(data['vocab'])) # Number of words in vocab\n",
        "print(data['vocab']) # All the words in vocab\n",
        "print(data['train_inputs'][:10]) # 10 example training instances"
      ],
      "execution_count": 4,
      "outputs": [
        {
          "output_type": "stream",
          "text": [
            "[MASK]\n",
            "all\n",
            "251\n",
            "['[MASK]', 'all', 'set', 'just', 'show', 'being', 'money', 'over', 'both', 'years', 'four', 'through', 'during', 'go', 'still', 'children', 'before', 'police', 'office', 'million', 'also', 'less', 'had', ',', 'including', 'should', 'to', 'only', 'going', 'under', 'has', 'might', 'do', 'them', 'good', 'around', 'get', 'very', 'big', 'dr.', 'game', 'every', 'know', 'they', 'not', 'world', 'now', 'him', 'school', 'several', 'like', 'did', 'university', 'companies', 'these', 'she', 'team', 'found', 'where', 'right', 'says', 'people', 'house', 'national', 'some', 'back', 'see', 'street', 'are', 'year', 'home', 'best', 'out', 'even', 'what', 'said', 'for', 'federal', 'since', 'its', 'may', 'state', 'does', 'john', 'between', 'new', ';', 'three', 'public', '?', 'be', 'we', 'after', 'business', 'never', 'use', 'here', 'york', 'members', 'percent', 'put', 'group', 'come', 'by', '$', 'on', 'about', 'last', 'her', 'of', 'could', 'days', 'against', 'times', 'women', 'place', 'think', 'first', 'among', 'own', 'family', 'into', 'each', 'one', 'down', 'because', 'long', 'another', 'such', 'old', 'next', 'your', 'market', 'second', 'city', 'little', 'from', 'would', 'few', 'west', 'there', 'political', 'two', 'been', '.', 'their', 'much', 'music', 'too', 'way', 'white', ':', 'was', 'war', 'today', 'more', 'ago', 'life', 'that', 'season', 'company', '-', 'but', 'part', 'court', 'former', 'general', 'with', 'than', 'those', 'he', 'me', 'high', 'made', 'this', 'work', 'up', 'us', 'until', 'will', 'ms.', 'while', 'officials', 'can', 'were', 'country', 'my', 'called', 'and', 'program', 'have', 'then', 'is', 'it', 'an', 'states', 'case', 'say', 'his', 'at', 'want', 'in', 'any', 'as', 'if', 'united', 'end', 'no', ')', 'make', 'government', 'when', 'american', 'same', 'how', 'mr.', 'other', 'take', 'which', 'department', '--', 'you', 'many', 'nt', 'day', 'week', 'play', 'used', \"'s\", 'though', 'our', 'who', 'yesterday', 'director', 'most', 'president', 'law', 'man', 'a', 'night', 'off', 'center', 'i', 'well', 'or', 'without', 'so', 'time', 'five', 'the', 'left']\n",
            "[[ 28  26  90 144]\n",
            " [184  44 249 117]\n",
            " [183  32  76 122]\n",
            " [117 247 201 186]\n",
            " [223 190 249   6]\n",
            " [ 42  74  26  32]\n",
            " [242  32 223  32]\n",
            " [223  32 158 144]\n",
            " [ 74  32 221  32]\n",
            " [ 42 192  91  68]]\n"
          ],
          "name": "stdout"
        }
      ]
    },
    {
      "cell_type": "markdown",
      "metadata": {
        "id": "lXd2Msqs3fPQ"
      },
      "source": [
        "Now `data` is a Python dict which contains the vocabulary, as well as the inputs and targets for all three splits of the data. `data['vocab']` is a list of the 251 words in the dictionary; `data['vocab'][0]` is the word with index 0, and so on. `data['train_inputs']` is a 372,500 x 4 matrix where each row gives the indices of the 4 consecutive context words for one of the 372,500 training cases.\n",
        "The validation and test sets are handled analogously.\n",
        "\n",
        "Even though you only have to modify two specific locations in the code, you may want to read through this code before starting the assignment. "
      ]
    },
    {
      "cell_type": "markdown",
      "metadata": {
        "id": "pa9ggqxJPPs0"
      },
      "source": [
        "# Part 1: GLoVE Word Representations (2pts)\n",
        "\n",
        "In this part of the assignment, you will implement a simplified version of the GLoVE embedding (please see the handout for detailed description of the algorithm) with the loss defined as\n",
        "\n",
        "$$L(\\{\\mathbf{w}_i,\\tilde{\\mathbf{w}}_i,b_i, \\tilde{b}_i\\}_{i=1}^V) = \\sum_{i,j=1}^V (\\mathbf{w}_i^\\top\\tilde{\\mathbf{w}}_j + b_i + \\tilde{b}_j - \\log X_{ij})^2$$.\n",
        "\n",
        "Note that each word is represented by two $d$-dimensional embedding vectors $\\mathbf{w}_i, \\tilde{\\mathbf{w}}_i$ and two scalar biases $b_i, \\tilde{b}_i$.\n",
        "\n"
      ]
    },
    {
      "cell_type": "markdown",
      "metadata": {
        "id": "Xo1R6rfP4aJQ"
      },
      "source": [
        "Answer the following questions:\n",
        "\n",
        "## 1.1.  GLoVE Parameter Count \\[0pt\\]\n",
        "Given the vocabulary size $V$ and embedding dimensionality $d$, how many parameters does the GLoVE model have?  Note that each word in the vocabulary is associated with 2 embedding vectors and 2 biases."
      ]
    },
    {
      "cell_type": "markdown",
      "metadata": {
        "id": "gREV4DxJx98K"
      },
      "source": [
        "1.1 **Answer**: \r\n",
        "\r\n",
        "$$\r\n",
        "V(2d+2)\r\n",
        "$$"
      ]
    },
    {
      "cell_type": "markdown",
      "metadata": {
        "id": "_vQIRZynyGpl"
      },
      "source": [
        "## 1.2. Expression for gradient $\\frac{\\partial L}{\\partial \\mathbf{w}_i}$ \\[1pt\\]\n",
        "\n",
        "Write the expression for $\\frac{\\partial L}{\\partial \\mathbf{w}_i}$, the gradient of the loss function $L$ with respect to one parameter vector $\\mathbf{w}_i$. The gradient should be a function of $\\mathbf{w}, \\tilde{\\mathbf{w}}, b, \\tilde{b}, X$ with appropriate subscripts (if any). "
      ]
    },
    {
      "cell_type": "markdown",
      "metadata": {
        "id": "HYDCmo7UyLyI"
      },
      "source": [
        "1.2 **Answer**: \n",
        "\n",
        "$$\n",
        "\\begin{aligned}\n",
        "\\frac{\\partial L}{\\partial \\mathbf{w}_i} \n",
        "&=\n",
        "\\sum_{j=1}^V \\frac{\\partial L}{\\partial \\mathbf{w}_i} \\left[ (\\mathbf{w}_i^\\top\\tilde{\\mathbf{w}}_j + b_i + \\tilde{b}_j - \\log X_{ij})^2 \\right]\n",
        "\\\\\n",
        "&=\n",
        "\\sum_{j=1}^V 2 (\\mathbf{w}_i^\\top\\tilde{\\mathbf{w}}_j + b_i + \\tilde{b}_j - \\log X_{ij})\\tilde{\\mathbf{w}}_j\n",
        "\\end{aligned}\n",
        "$$"
      ]
    },
    {
      "cell_type": "markdown",
      "metadata": {
        "id": "HzWek3lP0p2e"
      },
      "source": [
        "## 1.3.  Implement the gradient update of GLoVE. \\[1pt\\]\n",
        "\n",
        "**See** `YOUR CODE HERE` **Comment below for where to complete the code**\n"
      ]
    },
    {
      "cell_type": "markdown",
      "metadata": {
        "id": "4wTgnxAz0clX"
      },
      "source": [
        "We have provided a few functions for training the embedding:\n",
        "\n",
        "*   `calculate_log_co_occurence` computes the log co-occurrence matrix of a given corpus\n",
        "*   `train_GLoVE` runs momentum gradient descent to optimize the embedding\n",
        "*   `loss_GLoVE`: \n",
        "  * INPUT - $V\\times d$ matrix `W` (collection of $V$ embedding vectors, each $d$-dimensional); $V\\times d$ matrix `W_tilde`; $V\\times 1$ vector `b` (collection of $V$ bias terms); $V\\times 1$ vector `b_tilde`; $V \\times V$ log co-occurrence matrix. \n",
        "  * OUTPUT - loss of the GLoVE objective\n",
        "*   `grad_GLoVE`: **TO BE IMPLEMENTED.**\n",
        "  * INPUT:\n",
        "      * $V\\times d$ matrix `W` (collection of $V$ embedding vectors, each $d$-dimensional), embedding for first word; \n",
        "      * $V\\times d$ matrix `W_tilde`, embedding for second word; \n",
        "      * $V\\times 1$ vector `b` (collection of $V$ bias terms); \n",
        "      * $V\\times 1$ vector `b_tilde`, bias for second word; \n",
        "      * $V \\times V$ log co-occurrence matrix. \n",
        "  * OUTPUT:\n",
        "      * $V\\times d$ matrix `grad_W` containing the gradient of the loss function w.r.t. `W`;\n",
        "      * $V\\times d$ matrix `grad_W_tilde` containing the gradient of the loss function w.r.t. `W_tilde`;\n",
        "      * $V\\times 1$ vector `grad_b` which is the gradient of the loss function w.r.t. `b`. \n",
        "      * $V\\times 1$ vector `grad_b_tilde` which is the gradient of the loss function w.r.t. `b_tilde`. \n",
        "\n",
        "Run the code to compute the co-occurence matrix.\n",
        "Make sure to add a 1 to the occurences, so there are no 0's in the matrix when we take the elementwise log of the matrix.\n"
      ]
    },
    {
      "cell_type": "code",
      "metadata": {
        "id": "kbYUnHGQNbgu"
      },
      "source": [
        "vocab_size = len(data['vocab']) # Number of vocabs\n",
        "\n",
        "def calculate_log_co_occurence(word_data, symmetric=False):\n",
        "  \"Compute the log-co-occurence matrix for our data.\"\n",
        "  log_co_occurence = np.zeros((vocab_size, vocab_size))\n",
        "  for input in word_data:\n",
        "    # Note: the co-occurence matrix may not be symmetric\n",
        "    log_co_occurence[input[0], input[1]] += 1\n",
        "    log_co_occurence[input[1], input[2]] += 1\n",
        "    log_co_occurence[input[2], input[3]] += 1\n",
        "    # If we want symmetric co-occurence can also increment for these.\n",
        "    if symmetric:\n",
        "      log_co_occurence[input[1], input[0]] += 1\n",
        "      log_co_occurence[input[2], input[1]] += 1\n",
        "      log_co_occurence[input[3], input[2]] += 1\n",
        "  delta_smoothing = 0.5  # A hyperparameter.  You can play with this if you want.\n",
        "  log_co_occurence += delta_smoothing  # Add delta so log doesn't break on 0's.\n",
        "  log_co_occurence = np.log(log_co_occurence)\n",
        "  return log_co_occurence\n"
      ],
      "execution_count": 5,
      "outputs": []
    },
    {
      "cell_type": "code",
      "metadata": {
        "id": "XsIN6RrwONPf"
      },
      "source": [
        "asym_log_co_occurence_train = calculate_log_co_occurence(data['train_inputs'], symmetric=False)\n",
        "asym_log_co_occurence_valid = calculate_log_co_occurence(data['valid_inputs'], symmetric=False)"
      ],
      "execution_count": 6,
      "outputs": []
    },
    {
      "cell_type": "markdown",
      "metadata": {
        "id": "gNnKkMy-d2bB"
      },
      "source": [
        "* [ ] **TO BE IMPLEMENTED**: Calculate the gradient of the loss function w.r.t. the parameters $W$, $\\tilde{W}$, $\\mathbf{b}$, and $\\mathbf{b}$. You should vectorize the computation, i.e. not loop over every word."
      ]
    },
    {
      "cell_type": "code",
      "metadata": {
        "id": "LbpkXeaAdwnj"
      },
      "source": [
        "def loss_GLoVE(W, W_tilde, b, b_tilde, log_co_occurence):\n",
        "  \"Compute the GLoVE loss.\"\n",
        "  n,_ = log_co_occurence.shape\n",
        "  if W_tilde is None and b_tilde is None:\n",
        "    return np.sum((W @ W.T + b @ np.ones([1,n]) + np.ones([n,1])@b.T - log_co_occurence)**2)\n",
        "  else:\n",
        "    return np.sum((W @ W_tilde.T + b @ np.ones([1,n]) + np.ones([n,1])@b_tilde.T - log_co_occurence)**2)\n",
        "\n",
        "def grad_GLoVE(W, W_tilde, b, b_tilde, log_co_occurence):\n",
        "  \"Return the gradient of GLoVE objective w.r.t W and b.\"\n",
        "  \"INPUT: W - Vxd; W_tilde - Vxd; b - Vx1; b_tilde - Vx1; log_co_occurence: VxV\"\n",
        "  \"OUTPUT: grad_W - Vxd; grad_W_tilde - Vxd, grad_b - Vx1, grad_b_tilde - Vx1\"\n",
        "  n,_ = log_co_occurence.shape\n",
        "  \n",
        "  if not W_tilde is None and not b_tilde is None:\n",
        "  ###########################   YOUR CODE HERE  ##############################\n",
        "    loss = (W @ W_tilde.T \n",
        "               + b @ np.ones([1,n]) + np.ones([n,1])@b_tilde.T \n",
        "               - log_co_occurence)\n",
        "    grad_W = 2 *(W_tilde.T @ loss).T\n",
        "    grad_W_tilde = 2 *(W.T @ loss).T\n",
        "    grad_b = 2 * (loss @ np.ones([n,1])) # 2 * (np.ones([1,n]) @ loss).T\n",
        "    grad_b_tilde = 2 * (np.ones([1,n]) @ loss).T # 2 * (loss @ np.ones([n,1]))\n",
        "    # _, d = W.shape\n",
        "    # assert grad_W.shape == (n, d)\n",
        "    # assert grad_W_tilde.shape == (n, d)\n",
        "    # assert grad_b.shape == (n, 1)\n",
        "    # assert grad_b_tilde.shape == (n, 1)\n",
        "  ############################################################################\n",
        "  else:\n",
        "    loss = (W @ W.T + b @ np.ones([1,n]) + np.ones([n,1])@b.T - 0.5*(log_co_occurence + log_co_occurence.T))\n",
        "    grad_W = 4 *(W.T @ loss).T\n",
        "    grad_W_tilde = None\n",
        "    grad_b = 4 * (np.ones([1,n]) @ loss).T\n",
        "    grad_b_tilde = None\n",
        "  \n",
        "  return grad_W, grad_W_tilde, grad_b, grad_b_tilde\n",
        "\n",
        "def train_GLoVE(W, W_tilde, b, b_tilde, log_co_occurence_train, log_co_occurence_valid, n_epochs, do_print=False):\n",
        "  \"Traing W and b according to GLoVE objective.\"\n",
        "  n,_ = log_co_occurence_train.shape\n",
        "  learning_rate = 0.05 / n  # A hyperparameter.  You can play with this if you want.\n",
        "  for epoch in range(n_epochs):\n",
        "    grad_W, grad_W_tilde, grad_b, grad_b_tilde = grad_GLoVE(W, W_tilde, b, b_tilde, log_co_occurence_train)\n",
        "    W = W - learning_rate * grad_W\n",
        "    b = b - learning_rate * grad_b\n",
        "    if not grad_W_tilde is None and not grad_b_tilde is None:\n",
        "      W_tilde = W_tilde - learning_rate * grad_W_tilde\n",
        "      b_tilde = b_tilde - learning_rate * grad_b_tilde\n",
        "    train_loss, valid_loss = loss_GLoVE(W, W_tilde, b, b_tilde, log_co_occurence_train), loss_GLoVE(W, W_tilde, b, b_tilde, log_co_occurence_valid)\n",
        "    if do_print:\n",
        "      print(f\"Train Loss: {train_loss}, valid loss: {valid_loss}, grad_norm: {np.sum(grad_W**2)}\")\n",
        "  return W, W_tilde, b, b_tilde, train_loss, valid_loss"
      ],
      "execution_count": 7,
      "outputs": []
    },
    {
      "cell_type": "markdown",
      "metadata": {
        "id": "bRoG_sqZySHD"
      },
      "source": [
        "## 1.4. Effect of embedding dimension $d$ \\[0pt\\]\n",
        "Train the both the symmetric and asymmetric GLoVe model with varying dimensionality $d$ by running the cell below. Comment on:\n",
        "1. Which $d$ leads to optimal validation performance for the asymmetric and symmetric models?\n",
        "2. Why does / doesn't larger $d$ always lead to better validation error? \n",
        "3. Which model is performing better, and why?\n"
      ]
    },
    {
      "cell_type": "markdown",
      "metadata": {
        "id": "mD5jnHJB2hFy"
      },
      "source": [
        "1.4 Answer: **\\*\\*TODO: Write Part 1.4 answer here\\*\\***"
      ]
    },
    {
      "cell_type": "markdown",
      "metadata": {
        "id": "pjiNQ0WkWi1Z"
      },
      "source": [
        "Train the GLoVE model for a range of embedding dimensions"
      ]
    },
    {
      "cell_type": "code",
      "metadata": {
        "id": "46yGUezEMLJe",
        "colab": {
          "base_uri": "https://localhost:8080/"
        },
        "outputId": "26ea7e54-9d6a-451c-ebf3-c7c1ef9e23e4"
      },
      "source": [
        "np.random.seed(1)\n",
        "n_epochs = 500  # A hyperparameter.  You can play with this if you want.\n",
        "embedding_dims = np.array([1, 2, 10, 128, 256])  # Play with this\n",
        "# Store the final losses for graphing\n",
        "asymModel_asymCoOc_final_train_losses, asymModel_asymCoOc_final_val_losses = [], []\n",
        "symModel_asymCoOc_final_train_losses, symModel_asymCoOc_final_val_losses = [], []\n",
        "Asym_W_final_2d, Asym_b_final_2d, Asym_W_tilde_final_2d, Asym_b_tilde_final_2d = None, None, None, None\n",
        "W_final_2d, b_final_2d = None, None\n",
        "do_print = False  # If you want to see diagnostic information during training\n",
        "\n",
        "for embedding_dim in tqdm(embedding_dims):\n",
        "  init_variance = 0.1  # A hyperparameter.  You can play with this if you want.\n",
        "  W = init_variance * np.random.normal(size=(vocab_size, embedding_dim))\n",
        "  W_tilde = init_variance * np.random.normal(size=(vocab_size, embedding_dim))\n",
        "  b = init_variance * np.random.normal(size=(vocab_size, 1))\n",
        "  b_tilde = init_variance * np.random.normal(size=(vocab_size, 1))\n",
        "  if do_print:\n",
        "    print(f\"Training for embedding dimension: {embedding_dim}\")\n",
        "  \n",
        "  # Train Asym model on Asym Co-Oc matrix\n",
        "  Asym_W_final, Asym_W_tilde_final, Asym_b_final, Asym_b_tilde_final, train_loss, valid_loss = train_GLoVE(W, W_tilde, b, b_tilde, asym_log_co_occurence_train, asym_log_co_occurence_valid, n_epochs, do_print=do_print)\n",
        "  if embedding_dim == 2:\n",
        "    # Save a parameter copy if we are training 2d embedding for visualization later\n",
        "    Asym_W_final_2d = Asym_W_final\n",
        "    Asym_W_tilde_final_2d = Asym_W_tilde_final\n",
        "    Asym_b_final_2d = Asym_b_final\n",
        "    Asym_b_tilde_final_2d = Asym_b_tilde_final\n",
        "  asymModel_asymCoOc_final_train_losses += [train_loss]\n",
        "  asymModel_asymCoOc_final_val_losses += [valid_loss]\n",
        "  if do_print:\n",
        "    print(f\"Final validation loss: {valid_loss}\")\n",
        "  \n",
        "  # Train Sym model on Asym Co-Oc matrix\n",
        "  W_final, W_tilde_final, b_final, b_tilde_final, train_loss, valid_loss = train_GLoVE(W, None, b, None, asym_log_co_occurence_train, asym_log_co_occurence_valid, n_epochs, do_print=do_print)\n",
        "  if embedding_dim == 2:\n",
        "    # Save a parameter copy if we are training 2d embedding for visualization later\n",
        "    W_final_2d = W_final\n",
        "    b_final_2d = b_final\n",
        "  symModel_asymCoOc_final_train_losses += [train_loss]\n",
        "  symModel_asymCoOc_final_val_losses += [valid_loss]\n",
        "  if do_print:\n",
        "    print(f\"Final validation loss: {valid_loss}\")"
      ],
      "execution_count": 8,
      "outputs": [
        {
          "output_type": "stream",
          "text": [
            "100%|██████████| 5/5 [00:30<00:00,  6.10s/it]\n"
          ],
          "name": "stderr"
        }
      ]
    },
    {
      "cell_type": "markdown",
      "metadata": {
        "id": "hzV-qFf5WfAp"
      },
      "source": [
        "Plot the training and validation losses against the embedding dimension."
      ]
    },
    {
      "cell_type": "code",
      "metadata": {
        "id": "WHgHgSzJTg5d",
        "colab": {
          "base_uri": "https://localhost:8080/",
          "height": 302
        },
        "outputId": "6a40f80f-90d5-47d7-ae77-a15e3f2f29ba"
      },
      "source": [
        "pylab.loglog(embedding_dims, asymModel_asymCoOc_final_train_losses, label=\"Asymmetric Model / Asymmetric Co-Oc\", linestyle=\"--\")\n",
        "pylab.loglog(embedding_dims, symModel_asymCoOc_final_train_losses , label=\"Symmetric Model / Asymmetric Co-Oc\")\n",
        "pylab.xlabel(\"Embedding Dimension\")\n",
        "pylab.ylabel(\"Training Loss\")\n",
        "pylab.legend()"
      ],
      "execution_count": 9,
      "outputs": [
        {
          "output_type": "execute_result",
          "data": {
            "text/plain": [
              "<matplotlib.legend.Legend at 0x7fee2e54c0f0>"
            ]
          },
          "metadata": {
            "tags": []
          },
          "execution_count": 9
        },
        {
          "output_type": "display_data",
          "data": {
            "image/png": "[encoded data removed]",
            "text/plain": [
              "<Figure size 432x288 with 1 Axes>"
            ]
          },
          "metadata": {
            "tags": [],
            "needs_background": "light"
          }
        }
      ]
    },
    {
      "cell_type": "code",
      "metadata": {
        "id": "0UJSfg_hfvIV",
        "colab": {
          "base_uri": "https://localhost:8080/",
          "height": 302
        },
        "outputId": "d7eef6c0-13c2-4399-8582-45c61a4b5912"
      },
      "source": [
        "pylab.loglog(embedding_dims, asymModel_asymCoOc_final_val_losses, label=\"Asymmetric Model / Asymmetric Co-Oc\", linestyle=\"--\")\n",
        "pylab.loglog(embedding_dims, symModel_asymCoOc_final_val_losses , label=\"Sym Model / Asymmetric Co-Oc\")\n",
        "pylab.xlabel(\"Embedding Dimension\")\n",
        "pylab.ylabel(\"Validation Loss\")\n",
        "pylab.legend(loc=\"upper left\")"
      ],
      "execution_count": 10,
      "outputs": [
        {
          "output_type": "execute_result",
          "data": {
            "text/plain": [
              "<matplotlib.legend.Legend at 0x7fee2deba7b8>"
            ]
          },
          "metadata": {
            "tags": []
          },
          "execution_count": 10
        },
        {
          "output_type": "display_data",
          "data": {
            "image/png": "[encoded data removed]",
            "text/plain": [
              "<Figure size 432x288 with 1 Axes>"
            ]
          },
          "metadata": {
            "tags": [],
            "needs_background": "light"
          }
        }
      ]
    },
    {
      "cell_type": "markdown",
      "metadata": {
        "id": "BsZ-R26SSlRn"
      },
      "source": [
        "> 1.  Which $d$ leads to optimal validation performance for the asymmetric and symmetric models?\r\n",
        "\r\n",
        "From the plot above, it appears that $d=10$ is optimal.\r\n",
        "\r\n",
        "> 2.  Why does / doesn’t larger $d$ always lead to better validation error?\r\n",
        "\r\n",
        "Larger $d$ may have overfitted on the training data.\r\n",
        "\r\n",
        "> 3.  Which model is performing better, and why?\r\n",
        "\r\n",
        "The symmetric model is performing better. It may have prevented overfitting.\r\n"
      ]
    },
    {
      "cell_type": "markdown",
      "metadata": {
        "id": "7YwDZcOhjywe"
      },
      "source": [
        "# Part 2: Network Architecture (2pts)\n",
        "See the handout for the written questions in this part.\n",
        "\n",
        "## Answer the following questions"
      ]
    },
    {
      "cell_type": "markdown",
      "metadata": {
        "id": "wBQmEPvazDkA"
      },
      "source": [
        "## 2.1. Number of parameters in neural network model \\[1pt\\]\n",
        "\n",
        "Assume in general that we have $V$ words in the dictionary and use the previous $N$ words as inputs. Suppose we use a $D$-dimensional word embedding and a hidden layer with $H$ hidden units. The trainable parameters of the model consist of 3 weight matrices and 2 sets of biases. What is the total number of trainable parameters in the model, as a function of $V,N,D,H$? \n",
        "\n",
        "In the diagram given, which part of the model (i.e., `word_embbeding_weights`, `embed_to_hid_weights`, `hid_to_output_weights`, `hid_bias`, or `output_bias`) has the largest number of trainable parameters if we have the constraint that $V \\gg H > D > N$? Note: The symbol $\\gg$ means ``much greater than\" Explain your reasoning. \n"
      ]
    },
    {
      "cell_type": "markdown",
      "metadata": {
        "id": "CJKJ7qi9zVAm"
      },
      "source": [
        "2.1 Answer: \r\n",
        "\r\n",
        "The number of parameters is:\r\n",
        "\r\n",
        "$$N\\times D+ND\\times H+H\\times V+2$$\r\n",
        "\r\n",
        "Given $V\\gg H>D>N$, then the last layer of `hid_to_output_weights` would have the largest number of trainable parameters ($H\\times V$) since $V$ is much greater than all other hyper-parameters."
      ]
    },
    {
      "cell_type": "markdown",
      "metadata": {
        "id": "Cx_h25zYzVWJ"
      },
      "source": [
        "## 2.2 Number of parameters in $n$-gram model \\[1pt\\]\n",
        "Another method for predicting the next words is an n-gram model, which was mentioned in Lecture 3. If we wanted to use an n-gram model with the same context length $N$ as our network, we'd need to store the counts of all possible $(N+1)$-grams. If we stored all the counts explicitly, how many entries would this table have? \n"
      ]
    },
    {
      "cell_type": "markdown",
      "metadata": {
        "id": "n4hTwsjTzXvi"
      },
      "source": [
        "2.2 Answer: \r\n",
        "\r\n",
        "$$V^{N+1}$$"
      ]
    },
    {
      "cell_type": "markdown",
      "metadata": {
        "id": "xDU6LrF-zX1v"
      },
      "source": [
        "\n",
        "## 2.3. Comparing neural network and $n$-gram model scaling \\[0pt\\]\n",
        "How do the parameters in the neural network model scale with the number of context words $N$ versus how the number of entries in the $n$-gram model scale with $N$? [0pt]"
      ]
    },
    {
      "cell_type": "markdown",
      "metadata": {
        "id": "IVJSp7gFzYa3"
      },
      "source": [
        "2.3 Answer: \r\n",
        "\r\n",
        "In the neural network model, assuming $V\\gg N$, the number of parameter is mostly determined by $H\\times V$ which is not dependent upon $N$. In the $(N+1)$-gram model, increasing $N$ by one would increase the number of parameters by $V$ times, which grows exponentially."
      ]
    },
    {
      "cell_type": "markdown",
      "metadata": {
        "id": "C8FZTyrzlCNl"
      },
      "source": [
        "# Part 3: Training the model (3pts)\n",
        "\n",
        "We will modify the architecture slightly from the previous section, inspired by BERT \\citep{devlin2018bert}. Instead of having only one output, the architecture will now take in $N=4$ context words, and also output predictions for $N=4$ words. See Figure 2 diagram in the handout for the diagram of this architecture. "
      ]
    },
    {
      "cell_type": "markdown",
      "metadata": {
        "id": "ua0qkOH1tqHw"
      },
      "source": [
        "During training, we randomly sample one of the $N$ context words to replace with a `[MASK]` token. The goal is for the network to predict the word that was masked, at the corresponding output word position. \n",
        "In practice, this `[MASK]` token is assigned the index 0 in our dictionary. \n",
        "The weights $W^{(2)}$ = `hid_to_output_weights` now has the shape $NV \\times H$, as the output layer has $NV$ neurons, where the first $V$ output units are for predicting the first word, then the next $V$ are for predicting the second word, and so on. \n",
        "    We call this as *concatenating* output uniits across all word positions, i.e. the $(j + nV)$-th column is for the word $j$ in vocabulary for the $n$-th output word position. \n",
        "        Note here that the softmax is applied in chunks of $V$ as well, to give a valid probability distribution over the $V$ words. Only the output word positions that were masked in the input are included in the cross entropy loss calculation:\n",
        "        \n",
        "        \n",
        "There are three classes defined in this part: `Params`, `Activations`, `Model`.\n",
        "You will make changes to `Model`, but it may help to read through `Params` and `Activations` first.\n",
        "\n",
        "$$C = -\\sum_{i}^{B}\\sum_{n}^{N}\\sum_{j}^{V} m^{(i)}_{n} (t^{(i)}_{n,j} \\log y^{(i)}_{n,j}),$$\n",
        "\n",
        "Where $y^{(i)}_{n,j}$ denotes the output probability prediction from the neural network for the $i$-th training example for the word $j$ in the $n$-th output word, and $t^{(i)}_{n,j}$ is 1 if for the $i$-th training example, the word $j$ is the $n$-th word in context. Finally, $m^{(i)}_{n} \\in \\{0,1\\}$ is a mask that is set to 1 if we are predicting the $n$-th word position for the $i$-th example (because we had masked that word in the input), and 0 otherwise.  \n",
        "\n",
        "\n",
        "There are three classes defined in this part: `Params`, `Activations`, `Model`.\n",
        "You will make changes to `Model`, but it may help to read through `Params` and `Activations` first."
      ]
    },
    {
      "cell_type": "code",
      "metadata": {
        "id": "EfGEjB3QLNXf"
      },
      "source": [
        "class Params(object):\n",
        "    \"\"\"A class representing the trainable parameters of the model. This class has five fields:\n",
        "    \n",
        "           word_embedding_weights, a matrix of size V x D, where V is the number of words in the vocabulary\n",
        "                   and D is the embedding dimension.\n",
        "           embed_to_hid_weights, a matrix of size H x ND, where H is the number of hidden units. The first D\n",
        "                   columns represent connections from the embedding of the first context word, the next D columns\n",
        "                   for the second context word, and so on. There are N context words.\n",
        "           hid_bias, a vector of length H\n",
        "           hid_to_output_weights, a matrix of size NV x H\n",
        "           output_bias, a vector of length NV\"\"\"\n",
        "\n",
        "    def __init__(self, word_embedding_weights, embed_to_hid_weights, hid_to_output_weights,\n",
        "                 hid_bias, output_bias):\n",
        "        self.word_embedding_weights = word_embedding_weights\n",
        "        self.embed_to_hid_weights = embed_to_hid_weights\n",
        "        self.hid_to_output_weights = hid_to_output_weights\n",
        "        self.hid_bias = hid_bias\n",
        "        self.output_bias = output_bias\n",
        "\n",
        "    def copy(self):\n",
        "        return self.__class__(self.word_embedding_weights.copy(), self.embed_to_hid_weights.copy(),\n",
        "                              self.hid_to_output_weights.copy(), self.hid_bias.copy(), self.output_bias.copy())\n",
        "\n",
        "    @classmethod\n",
        "    def zeros(cls, vocab_size, context_len, embedding_dim, num_hid):\n",
        "        \"\"\"A constructor which initializes all weights and biases to 0.\"\"\"\n",
        "        word_embedding_weights = np.zeros((vocab_size, embedding_dim))\n",
        "        embed_to_hid_weights = np.zeros((num_hid, context_len * embedding_dim))\n",
        "        hid_to_output_weights = np.zeros((vocab_size * context_len, num_hid))\n",
        "        hid_bias = np.zeros(num_hid)\n",
        "        output_bias = np.zeros(vocab_size * context_len)\n",
        "        return cls(word_embedding_weights, embed_to_hid_weights, hid_to_output_weights,\n",
        "                   hid_bias, output_bias)\n",
        "\n",
        "    @classmethod\n",
        "    def random_init(cls, init_wt, vocab_size, context_len, embedding_dim, num_hid):\n",
        "        \"\"\"A constructor which initializes weights to small random values and biases to 0.\"\"\"\n",
        "        word_embedding_weights = np.random.normal(0., init_wt, size=(vocab_size, embedding_dim))\n",
        "        embed_to_hid_weights = np.random.normal(0., init_wt, size=(num_hid, context_len * embedding_dim))\n",
        "        hid_to_output_weights = np.random.normal(0., init_wt, size=(vocab_size * context_len, num_hid))\n",
        "        hid_bias = np.zeros(num_hid)\n",
        "        output_bias = np.zeros(vocab_size * context_len)\n",
        "        return cls(word_embedding_weights, embed_to_hid_weights, hid_to_output_weights,\n",
        "                   hid_bias, output_bias)\n",
        "\n",
        "    ###### The functions below are Python's somewhat oddball way of overloading operators, so that\n",
        "    ###### we can do arithmetic on Params instances. You don't need to understand this to do the assignment.\n",
        "\n",
        "    def __mul__(self, a):\n",
        "        return self.__class__(a * self.word_embedding_weights,\n",
        "                              a * self.embed_to_hid_weights,\n",
        "                              a * self.hid_to_output_weights,\n",
        "                              a * self.hid_bias,\n",
        "                              a * self.output_bias)\n",
        "\n",
        "    def __rmul__(self, a):\n",
        "        return self * a\n",
        "\n",
        "    def __add__(self, other):\n",
        "        return self.__class__(self.word_embedding_weights + other.word_embedding_weights,\n",
        "                              self.embed_to_hid_weights + other.embed_to_hid_weights,\n",
        "                              self.hid_to_output_weights + other.hid_to_output_weights,\n",
        "                              self.hid_bias + other.hid_bias,\n",
        "                              self.output_bias + other.output_bias)\n",
        "\n",
        "    def __sub__(self, other):\n",
        "        return self + -1. * other"
      ],
      "execution_count": 11,
      "outputs": []
    },
    {
      "cell_type": "code",
      "metadata": {
        "id": "k6XFQUPsLSi7"
      },
      "source": [
        "class Activations(object):\n",
        "    \"\"\"A class representing the activations of the units in the network. This class has three fields:\n",
        "\n",
        "        embedding_layer, a matrix of B x ND matrix (where B is the batch size, D is the embedding dimension,\n",
        "                and N is the number of input context words), representing the activations for the embedding \n",
        "                layer on all the cases in a batch. The first D columns represent the embeddings for the \n",
        "                first context word, and so on.\n",
        "        hidden_layer, a B x H matrix representing the hidden layer activations for a batch\n",
        "        output_layer, a B x V matrix representing the output layer activations for a batch\"\"\"\n",
        "\n",
        "    def __init__(self, embedding_layer, hidden_layer, output_layer):\n",
        "        self.embedding_layer = embedding_layer\n",
        "        self.hidden_layer = hidden_layer\n",
        "        self.output_layer = output_layer\n",
        "\n",
        "def get_batches(inputs, batch_size, shuffle=True):\n",
        "    \"\"\"Divide a dataset (usually the training set) into mini-batches of a given size. This is a\n",
        "    'generator', i.e. something you can use in a for loop. You don't need to understand how it\n",
        "    works to do the assignment.\"\"\"\n",
        "\n",
        "    if inputs.shape[0] % batch_size != 0:\n",
        "        raise RuntimeError('The number of data points must be a multiple of the batch size.')\n",
        "    num_batches = inputs.shape[0] // batch_size\n",
        "\n",
        "    if shuffle:\n",
        "        idxs = np.random.permutation(inputs.shape[0])\n",
        "        inputs = inputs[idxs, :]\n",
        "\n",
        "    for m in range(num_batches):\n",
        "        yield inputs[m * batch_size:(m + 1) * batch_size, :]"
      ],
      "execution_count": 12,
      "outputs": []
    },
    {
      "cell_type": "markdown",
      "metadata": {
        "id": "uuAXaDNll0lf"
      },
      "source": [
        "In this part of the assignment, you implement a method which computes the gradient using backpropagation.\n",
        "To start you out, the *Model* class contains several important methods used in training:\n",
        "\n",
        "\n",
        "*   `compute_activations` computes the activations of all units on a given input batch\n",
        "*   `compute_loss` computes the total cross-entropy loss on a mini-batch\n",
        "*   `evaluate` computes the average cross-entropy loss for a given set of inputs and targets\n",
        "\n",
        "You will need to complete the implementation of two additional methods which are needed for training, and print the outputs of the gradients."
      ]
    },
    {
      "cell_type": "markdown",
      "metadata": {
        "id": "lVF5TxDgtqHx"
      },
      "source": [
        " ## 3.1 Implement gradient with respect to output layer inputs [1pt]\n",
        " `compute_loss_derivative` computes the derivative of the loss function with respect to the output layer inputs.\n",
        " \n",
        "In other words, if $C$ is the cost function, and the softmax computation for the $j$-th word in vocabulary for the $n$-th output word position is:\n",
        "\n",
        "$$y_{n,j} = \\frac{e^{z_{n,j}}}{\\sum_{l} e^{z_{n,l   }}}$$\n",
        "\n",
        "This function should compute a $B \\times NV$ matrix where the entries correspond to the partial derivatives $\\partial C / \\partial z_{j}^{n}$. Recall that the output units are concatenated across all positions, i.e. the $(j + nV)$-th column is for the word $j$ in vocabulary for the $n$-th output word position. \n",
        "\n",
        "## 3.2 Implement gradient with respect to parameters [1pt]\n",
        "`back_propagate` is the function which computes the gradient of the loss with respect to model parameters using backpropagation.\n",
        "It uses the derivatives computed by *compute_loss_derivative*.\n",
        "Some parts are already filled in for you, but you need to compute the matrices of derivatives for `embed_to_hid_weights`, `hid_bias`, `hid_to_output_weights`, and `output_bias`.\n",
        "These matrices have the same sizes as the parameter matrices (see previous section).\n",
        "\n",
        "In order to implement backpropagation efficiently, you need to express the computations in terms of matrix operations, rather than *for* loops.\n",
        "You should first work through the derivatives on pencil and paper.\n",
        "First, apply the chain rule to compute the derivatives with respect to individual units, weights, and biases.\n",
        "Next, take the formulas you've derived, and express them in matrix form.\n",
        "You should be able to express all of the required computations using only matrix multiplication, matrix transpose, and elementwise operations --- no *for* loops!\n",
        "If you want inspiration, read through the code for *Model.compute_activations* and try to understand how the matrix operations correspond to the computations performed by all the units in the network.\n",
        "        \n",
        "To make your life easier, we have provided the routine `checking.check_gradients`, which checks your gradients using finite differences.\n",
        "You should make sure this check passes before continuing with the assignment.\n",
        " \n",
        " "
      ]
    },
    {
      "cell_type": "code",
      "metadata": {
        "id": "0F4CTBipK9B6"
      },
      "source": [
        "class Model(object):\n",
        "    \"\"\"A class representing the language model itself. This class contains various methods used in training\n",
        "    the model and visualizing the learned representations. It has two fields:\n",
        "\n",
        "        params, a Params instance which contains the model parameters\n",
        "        vocab, a list containing all the words in the dictionary; vocab[0] is the word with index\n",
        "               0, and so on.\"\"\"\n",
        "\n",
        "    def __init__(self, params, vocab):\n",
        "        self.params = params\n",
        "        self.vocab = vocab\n",
        "\n",
        "        self.vocab_size = len(vocab)\n",
        "        self.embedding_dim = self.params.word_embedding_weights.shape[1]\n",
        "        self.embedding_layer_dim = self.params.embed_to_hid_weights.shape[1]\n",
        "        self.context_len = self.embedding_layer_dim // self.embedding_dim\n",
        "        self.num_hid = self.params.embed_to_hid_weights.shape[0]\n",
        "\n",
        "    def copy(self):\n",
        "        return self.__class__(self.params.copy(), self.vocab[:])\n",
        "\n",
        "    @classmethod\n",
        "    def random_init(cls, init_wt, vocab, context_len, embedding_dim, num_hid):\n",
        "        \"\"\"Constructor which randomly initializes the weights to Gaussians with standard deviation init_wt\n",
        "        and initializes the biases to all zeros.\"\"\"\n",
        "        params = Params.random_init(init_wt, len(vocab), context_len, embedding_dim, num_hid)\n",
        "        return Model(params, vocab)\n",
        "\n",
        "    def indicator_matrix(self, targets, mask_zero_index=True):\n",
        "        \"\"\"Construct a matrix where the (k + j*V)th entry of row i is 1 if the j-th target word\n",
        "         for example i is k, and all other entries are 0.\n",
        "\n",
        "         Note: if the j-th target word index is 0, this corresponds to the [MASK] token,\n",
        "               and we set the entry to be 0. \n",
        "        \"\"\"\n",
        "        batch_size, context_len = targets.shape\n",
        "        expanded_targets = np.zeros((batch_size, context_len * len(self.vocab)))\n",
        "        targets_offset = np.repeat((np.arange(context_len) * len(self.vocab))[np.newaxis, :], batch_size, axis=0) # [[0, V, 2V], [0, V, 2V], ...]\n",
        "        targets += targets_offset\n",
        "\n",
        "        for c in range(context_len):\n",
        "          expanded_targets[np.arange(batch_size), targets[:,c]] = 1.\n",
        "          if mask_zero_index:\n",
        "            # Note: Set the targets with index 0, V, 2V to be zero since it corresponds to the [MASK] token\n",
        "            expanded_targets[np.arange(batch_size), targets_offset[:,c]] = 0. \n",
        "        return expanded_targets\n",
        "\n",
        "    def compute_loss_derivative(self, output_activations, expanded_target_batch, target_mask):\n",
        "        \"\"\"Compute the derivative of the multiple target position cross-entropy loss function \\n\"\n",
        "        \n",
        "            For example:\n",
        "\n",
        "         [y_{0} ....  y_{V-1}] [y_{V}, ..., y_{2*V-1}] [y_{2*V} ... y_{i,3*V-1}] [y_{3*V} ... y_{i,4*V-1}] \n",
        "                  \n",
        "         Where for colum j + n*V,\n",
        "\n",
        "            y_{j + n*V} = e^{z_{j + n*V}} / \\sum_{m=0}^{V-1} e^{z_{m + n*V}}, for n=0,...,N-1\n",
        "\n",
        "        This function should return a dC / dz matrix of size [batch_size x (vocab_size * context_len)],\n",
        "        where each row i in dC / dz has columns 0 to V-1 containing the gradient the 1st output \n",
        "        context word from i-th training example, then columns vocab_size to 2*vocab_size - 1 for the 2nd\n",
        "        output context word of the i-th training example, etc.\n",
        "        \n",
        "        C is the loss function summed acrossed all examples as well:\n",
        "\n",
        "            C = -\\sum_{i,j,n} mask_{i,n} (t_{i, j + n*V} log y_{i, j + n*V}), for j=0,...,V, and n=0,...,N\n",
        "\n",
        "        where mask_{i,n} = 1 if the i-th training example has n-th context word as the target, \n",
        "        otherwise mask_{i,n} = 0.\n",
        "        \n",
        "        The arguments are as follows:\n",
        "\n",
        "            output_activations - A [batch_size x (context_len * vocab_size)] tensor, \n",
        "                for the activations of the output layer, i.e. the y_j's.\n",
        "            expanded_target_batch - A [batch_size (context_len * vocab_size)] tensor, \n",
        "                where expanded_target_batch[i,n*V:(n+1)*V] is the indicator vector for \n",
        "                the n-th context target word position, i.e. the (i, j + n*V) entry is 1 if the \n",
        "                i'th example, the context word at position n is j, and 0 otherwise.\n",
        "            target_mask - A [batch_size x context_len x 1] tensor, where target_mask[i,n] = 1 \n",
        "                if for the i'th example the n-th context word is a target position, otherwise 0\n",
        "        \n",
        "        Outputs:\n",
        "            loss_derivative - A [batch_size x (context_len * vocab_size)] matrix,\n",
        "                where loss_derivative[i,0:vocab_size] contains the gradient\n",
        "                dC / dz_0 for the i-th training example gradient for 1st output \n",
        "                context word, and loss_derivative[i,vocab_size:2*vocab_size] for \n",
        "                the 2nd output context word of the i-th training example, etc.\n",
        "        \"\"\"\n",
        "\n",
        "        ###########################   YOUR CODE HERE  ##############################\n",
        "        batch_size, VN = output_activations.shape\n",
        "        batch_size, N, _ = target_mask.shape\n",
        "        V = VN / N\n",
        "        mask = np.repeat(target_mask, V, axis=-1).reshape(batch_size, VN)\n",
        "        loss_derivative = -(expanded_target_batch - output_activations) * mask\n",
        "        return loss_derivative\n",
        "        ############################################################################\n",
        "\n",
        "    def compute_loss(self, output_activations, expanded_target_batch):\n",
        "        \"\"\"Compute the total loss over a mini-batch. expanded_target_batch is the matrix obtained\n",
        "        by calling indicator_matrix on the targets for the batch.\"\"\"\n",
        "        return -np.sum(expanded_target_batch * np.log(output_activations + TINY))\n",
        "\n",
        "    def compute_activations(self, inputs):\n",
        "        \"\"\"Compute the activations on a batch given the inputs. Returns an Activations instance.\n",
        "        You should try to read and understand this function, since this will give you clues for\n",
        "        how to implement back_propagate.\"\"\"\n",
        "\n",
        "        batch_size = inputs.shape[0]\n",
        "        if inputs.shape[1] != self.context_len:\n",
        "            raise RuntimeError('Dimension of the input vectors should be {}, but is instead {}'.format(\n",
        "                self.context_len, inputs.shape[1]))\n",
        "\n",
        "        # Embedding layer\n",
        "        # Look up the input word indies in the word_embedding_weights matrix\n",
        "        embedding_layer_state = np.zeros((batch_size, self.embedding_layer_dim))\n",
        "        for i in range(self.context_len):\n",
        "            embedding_layer_state[:, i * self.embedding_dim:(i + 1) * self.embedding_dim] = \\\n",
        "                self.params.word_embedding_weights[inputs[:, i], :]\n",
        "\n",
        "        # Hidden layer\n",
        "        inputs_to_hid = np.dot(embedding_layer_state, self.params.embed_to_hid_weights.T) + \\\n",
        "                        self.params.hid_bias\n",
        "        # Apply logistic activation function\n",
        "        hidden_layer_state = 1. / (1. + np.exp(-inputs_to_hid))\n",
        "\n",
        "        # Output layer\n",
        "        inputs_to_softmax = np.dot(hidden_layer_state, self.params.hid_to_output_weights.T) + \\\n",
        "                            self.params.output_bias\n",
        "\n",
        "        # Subtract maximum.\n",
        "        # Remember that adding or subtracting the same constant from each input to a\n",
        "        # softmax unit does not affect the outputs. So subtract the maximum to\n",
        "        # make all inputs <= 0. This prevents overflows when computing their exponents.\n",
        "        inputs_to_softmax -= inputs_to_softmax.max(1).reshape((-1, 1))\n",
        "\n",
        "        # Take softmax along each V chunks in the output layer\n",
        "        output_layer_state = np.exp(inputs_to_softmax)\n",
        "        output_layer_state_shape = output_layer_state.shape\n",
        "        output_layer_state = output_layer_state.reshape((-1, self.context_len, len(self.vocab)))\n",
        "        output_layer_state /= output_layer_state.sum(axis=-1, keepdims=True) # Softmax along each target word\n",
        "        output_layer_state = output_layer_state.reshape(output_layer_state_shape) # Flatten back \n",
        "\n",
        "        return Activations(embedding_layer_state, hidden_layer_state, output_layer_state)\n",
        "\n",
        "    def back_propagate(self, input_batch, activations, loss_derivative):\n",
        "        \"\"\"Compute the gradient of the loss function with respect to the trainable parameters\n",
        "        of the model. The arguments are as follows:\n",
        "\n",
        "             input_batch - the indices of the context words\n",
        "             activations - an Activations class representing the output of Model.compute_activations\n",
        "             loss_derivative - the matrix of derivatives computed by compute_loss_derivative\n",
        "             \n",
        "        Part of this function is already completed, but you need to fill in the derivative\n",
        "        computations for hid_to_output_weights_grad, output_bias_grad, embed_to_hid_weights_grad,\n",
        "        and hid_bias_grad. See the documentation for the Params class for a description of what\n",
        "        these matrices represent.\"\"\"\n",
        "\n",
        "        # The matrix with values dC / dz_j, where dz_j is the input to the jth hidden unit,\n",
        "        # i.e. h_j = 1 / (1 + e^{-z_j})\n",
        "        hid_deriv = np.dot(loss_derivative, self.params.hid_to_output_weights) \\\n",
        "                    * activations.hidden_layer * (1. - activations.hidden_layer)\n",
        "\n",
        "        ###########################   YOUR CODE HERE  ##############################\n",
        "        batch_size, _ = loss_derivative.shape\n",
        "        hid_to_output_weights_grad = (activations.hidden_layer.T @ loss_derivative).T\n",
        "        output_bias_grad = (np.ones([1, batch_size]) @ loss_derivative).T\n",
        "\n",
        "        loss_derivative_hidden = loss_derivative @ self.params.hid_to_output_weights * (1-activations.hidden_layer) * activations.hidden_layer\n",
        "        embed_to_hid_weights_grad = (activations.embedding_layer.T @ loss_derivative_hidden).T\n",
        "        hid_bias_grad = (np.ones([1, batch_size]) @ loss_derivative_hidden).T\n",
        "        ############################################################################\n",
        "\n",
        "        # The matrix of derivatives for the embedding layer\n",
        "        embed_deriv = np.dot(hid_deriv, self.params.embed_to_hid_weights)\n",
        "\n",
        "        # Embedding layer\n",
        "        word_embedding_weights_grad = np.zeros((self.vocab_size, self.embedding_dim))\n",
        "        for w in range(self.context_len):\n",
        "            word_embedding_weights_grad += np.dot(self.indicator_matrix(input_batch[:, w:w+1], mask_zero_index=False).T,\n",
        "                                                  embed_deriv[:, w * self.embedding_dim:(w + 1) * self.embedding_dim])\n",
        "\n",
        "        return Params(word_embedding_weights_grad, embed_to_hid_weights_grad, hid_to_output_weights_grad,\n",
        "                      hid_bias_grad, output_bias_grad)\n",
        "\n",
        "    def sample_input_mask(self, batch_size):\n",
        "        \"\"\"Samples a binary mask for the inputs of size batch_size x context_len\n",
        "        For each row, at most one element will be 1.\n",
        "        \"\"\"\n",
        "        mask_idx = np.random.randint(self.context_len, size=(batch_size,))\n",
        "        mask = np.zeros((batch_size, self.context_len), dtype=np.int)# Convert to one hot B x N, B batch size, N context len\n",
        "        mask[np.arange(batch_size), mask_idx] = 1\n",
        "        return mask\n",
        "    \n",
        "    def evaluate(self, inputs, batch_size=100):\n",
        "        \"\"\"Compute the average cross-entropy over a dataset.\n",
        "\n",
        "            inputs: matrix of shape D x N\"\"\"\n",
        "\n",
        "        ndata = inputs.shape[0]\n",
        "\n",
        "        total = 0.\n",
        "        for input_batch in get_batches(inputs, batch_size):\n",
        "            mask = self.sample_input_mask(batch_size)\n",
        "            input_batch_masked = input_batch * (1 - mask)\n",
        "            activations = self.compute_activations(input_batch_masked)\n",
        "            target_batch_masked = input_batch * mask\n",
        "            expanded_target_batch = self.indicator_matrix(target_batch_masked)\n",
        "            cross_entropy = -np.sum(expanded_target_batch * np.log(activations.output_layer + TINY))\n",
        "            total += cross_entropy\n",
        "\n",
        "        return total / float(ndata)\n",
        "\n",
        "    def display_nearest_words(self, word, k=10):\n",
        "        \"\"\"List the k words nearest to a given word, along with their distances.\"\"\"\n",
        "\n",
        "        if word not in self.vocab:\n",
        "            print('Word \"{}\" not in vocabulary.'.format(word))\n",
        "            return\n",
        "\n",
        "        # Compute distance to every other word.\n",
        "        idx = self.vocab.index(word)\n",
        "        word_rep = self.params.word_embedding_weights[idx, :]\n",
        "        diff = self.params.word_embedding_weights - word_rep.reshape((1, -1))\n",
        "        distance = np.sqrt(np.sum(diff ** 2, axis=1))\n",
        "\n",
        "        # Sort by distance.\n",
        "        order = np.argsort(distance)\n",
        "        order = order[1:1 + k]  # The nearest word is the query word itself, skip that.\n",
        "        for i in order:\n",
        "            print('{}: {}'.format(self.vocab[i], distance[i]))\n",
        "\n",
        "    def word_distance(self, word1, word2):\n",
        "        \"\"\"Compute the distance between the vector representations of two words.\"\"\"\n",
        "\n",
        "        if word1 not in self.vocab:\n",
        "            raise RuntimeError('Word \"{}\" not in vocabulary.'.format(word1))\n",
        "        if word2 not in self.vocab:\n",
        "            raise RuntimeError('Word \"{}\" not in vocabulary.'.format(word2))\n",
        "\n",
        "        idx1, idx2 = self.vocab.index(word1), self.vocab.index(word2)\n",
        "        word_rep1 = self.params.word_embedding_weights[idx1, :]\n",
        "        word_rep2 = self.params.word_embedding_weights[idx2, :]\n",
        "        diff = word_rep1 - word_rep2\n",
        "        return np.sqrt(np.sum(diff ** 2))"
      ],
      "execution_count": 27,
      "outputs": []
    },
    {
      "cell_type": "markdown",
      "metadata": {
        "id": "JbwZCTkboEhz"
      },
      "source": [
        "## 3.3 Print the gradients [1pt]\n",
        "\n",
        "To make your life easier, we have provided the routine `check_gradients`, which checks your gradients using finite differences.\n",
        "        You should make sure this check passes before continuing with the assignment. Once `check_gradients()` passes, call `print_gradients()` and include its output in your write-up. "
      ]
    },
    {
      "cell_type": "code",
      "metadata": {
        "id": "B5soRTiRn6W4"
      },
      "source": [
        "def relative_error(a, b):\n",
        "    return np.abs(a - b) / (np.abs(a) + np.abs(b))\n",
        "\n",
        "\n",
        "def check_output_derivatives(model, input_batch, target_batch):\n",
        "    def softmax(z):\n",
        "        z = z.copy()\n",
        "        z -= z.max(-1, keepdims=True)\n",
        "        y = np.exp(z)\n",
        "        y /= y.sum(-1, keepdims=True)\n",
        "        return y\n",
        "\n",
        "    batch_size = input_batch.shape[0]\n",
        "    z = np.random.normal(size=(batch_size, model.context_len, model.vocab_size))\n",
        "    y = softmax(z).reshape((batch_size, model.context_len * model.vocab_size))\n",
        "    z = z.reshape((batch_size, model.context_len * model.vocab_size))\n",
        "\n",
        "    expanded_target_batch = model.indicator_matrix(target_batch)\n",
        "    target_mask = expanded_target_batch.reshape(-1, model.context_len, len(model.vocab)).sum(axis=-1, keepdims=True)\n",
        "    loss_derivative = model.compute_loss_derivative(y, expanded_target_batch, target_mask)\n",
        "\n",
        "    if loss_derivative is None:\n",
        "        print('Loss derivative not implemented yet.')\n",
        "        return False\n",
        "\n",
        "    if loss_derivative.shape != (batch_size, model.vocab_size * model.context_len):\n",
        "        print('Loss derivative should be size {} but is actually {}.'.format(\n",
        "            (batch_size, model.vocab_size), loss_derivative.shape))\n",
        "        return False\n",
        "\n",
        "    def obj(z):\n",
        "        z = z.reshape((-1, model.context_len, model.vocab_size))\n",
        "        y = softmax(z).reshape((batch_size, model.context_len * model.vocab_size))\n",
        "        return model.compute_loss(y, expanded_target_batch)\n",
        "\n",
        "    for count in range(1000):\n",
        "        i, j = np.random.randint(0, loss_derivative.shape[0]), np.random.randint(0, loss_derivative.shape[1])\n",
        "\n",
        "        z_plus = z.copy()\n",
        "        z_plus[i, j] += EPS\n",
        "        obj_plus = obj(z_plus)\n",
        "\n",
        "        z_minus = z.copy()\n",
        "        z_minus[i, j] -= EPS\n",
        "        obj_minus = obj(z_minus)\n",
        "\n",
        "        empirical = (obj_plus - obj_minus) / (2. * EPS)\n",
        "        rel = relative_error(empirical, loss_derivative[i, j])\n",
        "        if rel > 1e-4:\n",
        "            print('The loss derivative has a relative error of {}, which is too large.'.format(rel))\n",
        "            return False\n",
        "\n",
        "    print('The loss derivative looks OK.')\n",
        "    return True\n",
        "\n",
        "\n",
        "def check_param_gradient(model, param_name, input_batch, target_batch):\n",
        "    activations = model.compute_activations(input_batch)\n",
        "    expanded_target_batch = model.indicator_matrix(target_batch)\n",
        "    target_mask = expanded_target_batch.reshape(-1, model.context_len, len(model.vocab)).sum(axis=-1, keepdims=True)\n",
        "    loss_derivative = model.compute_loss_derivative(activations.output_layer, expanded_target_batch, target_mask)\n",
        "    param_gradient = model.back_propagate(input_batch, activations, loss_derivative)\n",
        "\n",
        "    def obj(model):\n",
        "        activations = model.compute_activations(input_batch)\n",
        "        return model.compute_loss(activations.output_layer, expanded_target_batch)\n",
        "\n",
        "    dims = getattr(model.params, param_name).shape\n",
        "    is_matrix = (len(dims) == 2)\n",
        "\n",
        "    if getattr(param_gradient, param_name).shape != dims:\n",
        "        print('The gradient for {} should be size {} but is actually {}.'.format(\n",
        "            param_name, dims, getattr(param_gradient, param_name).shape))\n",
        "        return\n",
        "\n",
        "    for count in range(1000):\n",
        "        if is_matrix:\n",
        "            slc = np.random.randint(0, dims[0]), np.random.randint(0, dims[1])\n",
        "        else:\n",
        "            slc = np.random.randint(dims[0])\n",
        "\n",
        "        model_plus = model.copy()\n",
        "        getattr(model_plus.params, param_name)[slc] += EPS\n",
        "        obj_plus = obj(model_plus)\n",
        "\n",
        "        model_minus = model.copy()\n",
        "        getattr(model_minus.params, param_name)[slc] -= EPS\n",
        "        obj_minus = obj(model_minus)\n",
        "\n",
        "        empirical = (obj_plus - obj_minus) / (2. * EPS)\n",
        "        exact = getattr(param_gradient, param_name)[slc]\n",
        "        rel = relative_error(empirical, exact)\n",
        "        if rel > 3e-4:\n",
        "            import pdb; pdb.set_trace()\n",
        "            print('The loss derivative has a relative error of {}, which is too large for param {}.'.format(rel, param_name))\n",
        "            return False\n",
        "\n",
        "    print('The gradient for {} looks OK.'.format(param_name))\n",
        "\n",
        "\n",
        "def load_partially_trained_model():\n",
        "    obj = pickle.load(open(PARTIALLY_TRAINED_MODEL, 'rb'))\n",
        "    params = Params(obj['word_embedding_weights'], obj['embed_to_hid_weights'],\n",
        "                                   obj['hid_to_output_weights'], obj['hid_bias'],\n",
        "                                   obj['output_bias'])\n",
        "    vocab = obj['vocab']\n",
        "    return Model(params, vocab)\n",
        "\n",
        "\n",
        "def check_gradients():\n",
        "    \"\"\"Check the computed gradients using finite differences.\"\"\"\n",
        "    np.random.seed(0)\n",
        "\n",
        "    np.seterr(all='ignore')  # suppress a warning which is harmless\n",
        "\n",
        "    model = load_partially_trained_model()\n",
        "    data_obj = pickle.load(open(data_location, 'rb'))\n",
        "    train_inputs = data_obj['train_inputs']\n",
        "    input_batch = train_inputs[:100, :]\n",
        "    mask = model.sample_input_mask(input_batch.shape[0])\n",
        "    input_batch_masked = input_batch * (1 - mask)\n",
        "    target_batch_masked = input_batch * mask\n",
        " \n",
        "    if not check_output_derivatives(model, input_batch_masked, target_batch_masked):\n",
        "        return\n",
        "\n",
        "    for param_name in ['word_embedding_weights', 'embed_to_hid_weights', 'hid_to_output_weights',\n",
        "                       'hid_bias', 'output_bias']:\n",
        "        input_batch_masked = input_batch * (1 - mask)\n",
        "        target_batch_masked = input_batch * mask\n",
        "        check_param_gradient(model, param_name, input_batch_masked, target_batch_masked)\n",
        "\n",
        "\n",
        "def print_gradients():\n",
        "    \"\"\"Print out certain derivatives for grading.\"\"\"\n",
        "    np.random.seed(0)\n",
        "\n",
        "    model = load_partially_trained_model()\n",
        "    data_obj = pickle.load(open(data_location, 'rb'))\n",
        "    train_inputs = data_obj['train_inputs']\n",
        "    input_batch = train_inputs[:100, :]\n",
        "\n",
        "    mask = model.sample_input_mask(input_batch.shape[0])\n",
        "    input_batch_masked = input_batch * (1 - mask)\n",
        "    activations = model.compute_activations(input_batch_masked)\n",
        "    target_batch_masked = input_batch * mask\n",
        "    expanded_target_batch = model.indicator_matrix(target_batch_masked)\n",
        "    target_mask = expanded_target_batch.reshape(-1, model.context_len, len(model.vocab)).sum(axis=-1, keepdims=True)\n",
        "    loss_derivative = model.compute_loss_derivative(activations.output_layer, expanded_target_batch, target_mask)\n",
        "    param_gradient = model.back_propagate(input_batch, activations, loss_derivative)\n",
        "\n",
        "    print('loss_derivative[2, 5]', loss_derivative[2, 5])\n",
        "    print('loss_derivative[2, 121]', loss_derivative[2, 121])\n",
        "    print('loss_derivative[5, 33]', loss_derivative[5, 33])\n",
        "    print('loss_derivative[5, 31]', loss_derivative[5, 31])\n",
        "    print()\n",
        "    print('param_gradient.word_embedding_weights[27, 2]', param_gradient.word_embedding_weights[27, 2])\n",
        "    print('param_gradient.word_embedding_weights[43, 3]', param_gradient.word_embedding_weights[43, 3])\n",
        "    print('param_gradient.word_embedding_weights[22, 4]', param_gradient.word_embedding_weights[22, 4])\n",
        "    print('param_gradient.word_embedding_weights[2, 5]', param_gradient.word_embedding_weights[2, 5])\n",
        "    print()\n",
        "    print('param_gradient.embed_to_hid_weights[10, 2]', param_gradient.embed_to_hid_weights[10, 2])\n",
        "    print('param_gradient.embed_to_hid_weights[15, 3]', param_gradient.embed_to_hid_weights[15, 3])\n",
        "    print('param_gradient.embed_to_hid_weights[30, 9]', param_gradient.embed_to_hid_weights[30, 9])\n",
        "    print('param_gradient.embed_to_hid_weights[35, 21]', param_gradient.embed_to_hid_weights[35, 21])\n",
        "    print()\n",
        "    print('param_gradient.hid_bias[10]', param_gradient.hid_bias[10])\n",
        "    print('param_gradient.hid_bias[20]', param_gradient.hid_bias[20])\n",
        "    print()\n",
        "    print('param_gradient.output_bias[0]', param_gradient.output_bias[0])\n",
        "    print('param_gradient.output_bias[1]', param_gradient.output_bias[1])\n",
        "    print('param_gradient.output_bias[2]', param_gradient.output_bias[2])\n",
        "    print('param_gradient.output_bias[3]', param_gradient.output_bias[3])\n"
      ],
      "execution_count": 18,
      "outputs": []
    },
    {
      "cell_type": "code",
      "metadata": {
        "id": "6Tlficab3ZfJ",
        "colab": {
          "base_uri": "https://localhost:8080/"
        },
        "outputId": "039d8968-18e9-4824-c828-9b0ebb69f888"
      },
      "source": [
        "# Run this to check if your implement gradients matches the finite difference within tolerance\n",
        "# Note: this may take a few minutes to go through all the checks\n",
        "check_gradients()                                   "
      ],
      "execution_count": 28,
      "outputs": [
        {
          "output_type": "stream",
          "text": [
            "The loss derivative looks OK.\n",
            "The gradient for word_embedding_weights looks OK.\n",
            "The gradient for embed_to_hid_weights looks OK.\n",
            "The gradient for hid_to_output_weights looks OK.\n",
            "The gradient for hid_bias should be size (128,) but is actually (128, 1).\n",
            "The gradient for output_bias should be size (1004,) but is actually (1004, 1).\n"
          ],
          "name": "stdout"
        }
      ]
    },
    {
      "cell_type": "code",
      "metadata": {
        "id": "1TCLl7v189SI",
        "colab": {
          "base_uri": "https://localhost:8080/"
        },
        "outputId": "b7a40d55-9043-4912-e585-314caa03f594"
      },
      "source": [
        "# Run this to print out the gradients\n",
        "print_gradients()"
      ],
      "execution_count": 29,
      "outputs": [
        {
          "output_type": "stream",
          "text": [
            "loss_derivative[2, 5] 0.0\n",
            "loss_derivative[2, 121] 0.0\n",
            "loss_derivative[5, 33] 0.0\n",
            "loss_derivative[5, 31] 0.0\n",
            "\n",
            "param_gradient.word_embedding_weights[27, 2] 0.0\n",
            "param_gradient.word_embedding_weights[43, 3] 0.011596892511489444\n",
            "param_gradient.word_embedding_weights[22, 4] -0.022267062381729714\n",
            "param_gradient.word_embedding_weights[2, 5] 0.0\n",
            "\n",
            "param_gradient.embed_to_hid_weights[10, 2] 0.37932570919301645\n",
            "param_gradient.embed_to_hid_weights[15, 3] 0.01604516132110917\n",
            "param_gradient.embed_to_hid_weights[30, 9] -0.4312854367997418\n",
            "param_gradient.embed_to_hid_weights[35, 21] 0.06679896665436336\n",
            "\n",
            "param_gradient.hid_bias[10] [0.0234288]\n",
            "param_gradient.hid_bias[20] [-0.02437045]\n",
            "\n",
            "param_gradient.output_bias[0] [0.00097011]\n",
            "param_gradient.output_bias[1] [0.16868946]\n",
            "param_gradient.output_bias[2] [0.00516648]\n",
            "param_gradient.output_bias[3] [0.15096226]\n"
          ],
          "name": "stdout"
        }
      ]
    },
    {
      "cell_type": "markdown",
      "metadata": {
        "id": "qtC-br-N5xGT"
      },
      "source": [
        "## 3.4 Run model trainin [0pt]\n",
        "\n",
        "Once you've implemented the gradient computation, you'll need to train the model.\n",
        "The function *train* implements the main training procedure.\n",
        "It takes two arguments:\n",
        "\n",
        "\n",
        "*   `embedding_dim`: The number of dimensions in the distributed representation.\n",
        "*   `num_hid`: The number of hidden units\n",
        "\n",
        "\n",
        "As the model trains, the script prints out some numbers that tell you how well the training is going.\n",
        "It shows:\n",
        "\n",
        "\n",
        "*   The cross entropy on the last 100 mini-batches of the training set. This is shown after every 100 mini-batches.\n",
        "*   The cross entropy on the entire validation set every 1000 mini-batches of training.\n",
        "\n",
        "At the end of training, this function shows the cross entropies on the training, validation and test sets.\n",
        "It will return a *Model* instance."
      ]
    },
    {
      "cell_type": "code",
      "metadata": {
        "id": "akBYJQOdLfaF"
      },
      "source": [
        "_train_inputs = None\n",
        "_train_targets = None\n",
        "_vocab = None\n",
        "\n",
        "DEFAULT_TRAINING_CONFIG = {'batch_size': 100,  # the size of a mini-batch\n",
        "                           'learning_rate': 0.1,  # the learning rate\n",
        "                           'momentum': 0.9,  # the decay parameter for the momentum vector\n",
        "                           'epochs': 50,  # the maximum number of epochs to run\n",
        "                           'init_wt': 0.01,  # the standard deviation of the initial random weights\n",
        "                           'context_len': 4,  # the number of context words used\n",
        "                           'show_training_CE_after': 100,  # measure training error after this many mini-batches\n",
        "                           'show_validation_CE_after': 1000,  # measure validation error after this many mini-batches\n",
        "                           }\n",
        "\n",
        "\n",
        "def find_occurrences(word1, word2, word3):\n",
        "    \"\"\"Lists all the words that followed a given tri-gram in the training set and the number of\n",
        "    times each one followed it.\"\"\"\n",
        "\n",
        "    # cache the data so we don't keep reloading\n",
        "    global _train_inputs, _train_targets, _vocab\n",
        "    if _train_inputs is None:\n",
        "        data_obj = pickle.load(open(data_location, 'rb'))\n",
        "        _vocab = data_obj['vocab']\n",
        "        _train_inputs, _train_targets = data_obj['train_inputs'], data_obj['train_targets']\n",
        "\n",
        "    if word1 not in _vocab:\n",
        "        raise RuntimeError('Word \"{}\" not in vocabulary.'.format(word1))\n",
        "    if word2 not in _vocab:\n",
        "        raise RuntimeError('Word \"{}\" not in vocabulary.'.format(word2))\n",
        "    if word3 not in _vocab:\n",
        "        raise RuntimeError('Word \"{}\" not in vocabulary.'.format(word3))\n",
        "\n",
        "    idx1, idx2, idx3 = _vocab.index(word1), _vocab.index(word2), _vocab.index(word3)\n",
        "    idxs = np.array([idx1, idx2, idx3])\n",
        "\n",
        "    matches = np.all(_train_inputs == idxs.reshape((1, -1)), 1)\n",
        "\n",
        "    if np.any(matches):\n",
        "        counts = collections.defaultdict(int)\n",
        "        for m in np.where(matches)[0]:\n",
        "            counts[_vocab[_train_targets[m]]] += 1\n",
        "\n",
        "        word_counts = sorted(list(counts.items()), key=lambda t: t[1], reverse=True)\n",
        "        print('The tri-gram \"{} {} {}\" was followed by the following words in the training set:'.format(\n",
        "            word1, word2, word3))\n",
        "        for word, count in word_counts:\n",
        "            if count > 1:\n",
        "                print('    {} ({} times)'.format(word, count))\n",
        "            else:\n",
        "                print('    {} (1 time)'.format(word))\n",
        "    else:\n",
        "        print('The tri-gram \"{} {} {}\" did not occur in the training set.'.format(word1, word2, word3))\n",
        "\n",
        "\n",
        "def train(embedding_dim, num_hid, config=DEFAULT_TRAINING_CONFIG):\n",
        "    \"\"\"This is the main training routine for the language model. It takes two parameters:\n",
        "\n",
        "        embedding_dim, the dimension of the embedding space\n",
        "        num_hid, the number of hidden units.\"\"\"\n",
        "    # For reproducibility\n",
        "    np.random.seed(123)\n",
        "\n",
        "    # Load the data\n",
        "    data_obj = pickle.load(open(data_location, 'rb'))\n",
        "    vocab = data_obj['vocab']\n",
        "    train_inputs = data_obj['train_inputs']\n",
        "    valid_inputs = data_obj['valid_inputs']\n",
        "    test_inputs = data_obj['test_inputs']\n",
        "\n",
        "    # Randomly initialize the trainable parameters\n",
        "    model = Model.random_init(config['init_wt'], vocab, config['context_len'], embedding_dim, num_hid)\n",
        "\n",
        "    # Variables used for early stopping\n",
        "    best_valid_CE = np.infty\n",
        "    end_training = False\n",
        "\n",
        "    # Initialize the momentum vector to all zeros\n",
        "    delta = Params.zeros(len(vocab), config['context_len'], embedding_dim, num_hid)\n",
        "\n",
        "    this_chunk_CE = 0.\n",
        "    batch_count = 0\n",
        "    for epoch in range(1, config['epochs'] + 1):\n",
        "        if end_training:\n",
        "            break\n",
        "\n",
        "        print()\n",
        "        print('Epoch', epoch)\n",
        "\n",
        "        for m, (input_batch) in enumerate(get_batches(train_inputs, config['batch_size'])):\n",
        "            batch_count += 1\n",
        "\n",
        "            # For each example (row in input_batch), select one word to mask out\n",
        "            mask = model.sample_input_mask(config['batch_size'])\n",
        "            input_batch_masked = input_batch * (1 - mask) # We only zero out one word per row\n",
        "            target_batch_masked = input_batch * mask # We want to predict the masked out word\n",
        "\n",
        "            # Forward propagate\n",
        "            activations = model.compute_activations(input_batch_masked)\n",
        "\n",
        "            # Compute loss derivative            \n",
        "            expanded_target_batch = model.indicator_matrix(target_batch_masked)\n",
        "            loss_derivative = model.compute_loss_derivative(activations.output_layer, expanded_target_batch, mask[:,:, np.newaxis])\n",
        "            loss_derivative /= config['batch_size']\n",
        "\n",
        "            # Measure loss function\n",
        "            cross_entropy = model.compute_loss(activations.output_layer, expanded_target_batch) / config['batch_size']\n",
        "            this_chunk_CE += cross_entropy\n",
        "            if batch_count % config['show_training_CE_after'] == 0:\n",
        "                print('Batch {} Train CE {:1.3f}'.format(\n",
        "                    batch_count, this_chunk_CE / config['show_training_CE_after']))\n",
        "                this_chunk_CE = 0.\n",
        "\n",
        "            # Backpropagate\n",
        "            loss_gradient = model.back_propagate(input_batch, activations, loss_derivative)\n",
        "\n",
        "            # Update the momentum vector and model parameters\n",
        "            delta = config['momentum'] * delta + loss_gradient\n",
        "            model.params -= config['learning_rate'] * delta\n",
        "\n",
        "            # Validate\n",
        "            if batch_count % config['show_validation_CE_after'] == 0:\n",
        "                print('Running validation...')\n",
        "                cross_entropy = model.evaluate(valid_inputs)\n",
        "                print('Validation cross-entropy: {:1.3f}'.format(cross_entropy))\n",
        "\n",
        "                if cross_entropy > best_valid_CE:\n",
        "                    print('Validation error increasing!  Training stopped.')\n",
        "                    end_training = True\n",
        "                    break\n",
        "\n",
        "                best_valid_CE = cross_entropy\n",
        "\n",
        "    print()\n",
        "    train_CE = model.evaluate(train_inputs)\n",
        "    print('Final training cross-entropy: {:1.3f}'.format(train_CE))\n",
        "    valid_CE = model.evaluate(valid_inputs)\n",
        "    print('Final validation cross-entropy: {:1.3f}'.format(valid_CE))\n",
        "    test_CE = model.evaluate(test_inputs)\n",
        "    print('Final test cross-entropy: {:1.3f}'.format(test_CE))\n",
        "\n",
        "    return model"
      ],
      "execution_count": null,
      "outputs": []
    },
    {
      "cell_type": "markdown",
      "metadata": {
        "id": "ZX-g3K-F55h7"
      },
      "source": [
        "Run the training.\n"
      ]
    },
    {
      "cell_type": "code",
      "metadata": {
        "id": "BwlRG7j8LmIM"
      },
      "source": [
        "embedding_dim = 16\n",
        "num_hid = 128\n",
        "trained_model = train(embedding_dim, num_hid)"
      ],
      "execution_count": null,
      "outputs": []
    },
    {
      "cell_type": "markdown",
      "metadata": {
        "id": "2FD5Om0ypNPe"
      },
      "source": [
        "To convince us that you have correctly implemented the gradient computations, please include the following with your assignment submission:\n",
        "\n",
        "* [ ] You will submit `a1-code.ipynb` through MarkUs.\n",
        "You do not need to modify any of the code except the parts we asked you to implement.\n",
        "* [ ] In your writeup, include the output of the function `print_gradients`.\n",
        "This prints out part of the gradients for a partially trained network which we have provided, and we will check them against the correct outputs. **Important:** make sure to give the output of `print_gradients`, **not** `check_gradients`.\n",
        "\n",
        "This is worth 4 points: \n",
        "* 1 for the loss derivatives, \n",
        "* 1 for the bias gradients, and \n",
        "* 2 for the weight gradients.\n",
        "\n",
        "Since we gave you a gradient checker, you have no excuse for not getting full points on this part.\n"
      ]
    },
    {
      "cell_type": "markdown",
      "metadata": {
        "id": "z-TThqObiw58"
      },
      "source": [
        "# Part 4: Arithmetics and Analysis (2pts)\n",
        "In this part, you will perform arithmetic calculations on the word embeddings learned from previous models and analyze the representation learned by the networks with t-SNE plots. \n",
        "    "
      ]
    },
    {
      "cell_type": "markdown",
      "metadata": {
        "id": "Ic4VJaRMQLhs"
      },
      "source": [
        "## 4.1 t-SNE\n",
        "\n",
        "You will first train the models discussed in the previous sections; you’ll use the trained models for the remainder of this section.\n",
        "\n",
        "**Important**: if you’ve made any fixes to your gradient code, you must reload the a1-code module and then re-run the training procedure.\n",
        "Python does not reload modules automatically, and you don’t want to accidentally\n",
        "analyze an old version of your model.\n",
        "\n",
        "These methods of the Model class can be used for analyzing the model after the training is\n",
        "done:\n",
        "* `tsne_plot_representation` creates a 2-dimensional embedding of the distributed representation space using an algorithm called t-SNE. (You don’t need to know what this is for the assignment, but we\n",
        "may cover it later in the course.) Nearby points in this 2-D space are meant to correspond to\n",
        "nearby points in the 16-D space.\n",
        "*   `display_nearest_words` lists the words whose embedding vectors are nearest to the given\n",
        "word\n",
        "*   `word_distance` computes the distance between the embeddings of two words\n",
        "\n",
        "Plot the 2-dimensional visualization for the trained model from part 3 using the method `tsne_plot_representation`.\n",
        "            Look at the plot and find a few clusters of related words.\n",
        "            What do the words in each cluster have in common?\n",
        "            Plot the 2-dimensional visualization for the GloVe model from part 1 using the method `tsne_plot_GLoVe_representation`.\n",
        "            How do the t-SNE embeddings for both models compare?\n",
        "            Plot the 2-dimensional visualization using the method `plot_2d_GLoVe_representation`.\n",
        "            How does this compare to the t-SNE embeddings?\n",
        "            Please answer in 2 sentences for each question and show the plots in your submission."
      ]
    },
    {
      "cell_type": "markdown",
      "metadata": {
        "id": "_CfHlyJlDw1B"
      },
      "source": [
        "4.1 **Answer**: \n",
        "**\\*\\*TODO: Write Part 4.1 answer here\\*\\***"
      ]
    },
    {
      "cell_type": "code",
      "metadata": {
        "id": "LBk5VoiXCPqe"
      },
      "source": [
        "from sklearn.manifold import TSNE \n",
        "\n",
        "def tsne_plot_representation(model):\n",
        "    \"\"\"Plot a 2-D visualization of the learned representations using t-SNE.\"\"\"\n",
        "    print(model.params.word_embedding_weights.shape)\n",
        "    mapped_X = TSNE(n_components=2).fit_transform(model.params.word_embedding_weights)\n",
        "    pylab.figure(figsize=(12,12))\n",
        "    for i, w in enumerate(model.vocab):\n",
        "        pylab.text(mapped_X[i, 0], mapped_X[i, 1], w)\n",
        "    pylab.xlim(mapped_X[:, 0].min(), mapped_X[:, 0].max())\n",
        "    pylab.ylim(mapped_X[:, 1].min(), mapped_X[:, 1].max())\n",
        "    pylab.show()\n",
        "\n",
        "def tsne_plot_GLoVE_representation(W_final, b_final):\n",
        "    \"\"\"Plot a 2-D visualization of the learned representations using t-SNE.\"\"\"\n",
        "    mapped_X = TSNE(n_components=2).fit_transform(W_final)\n",
        "    pylab.figure(figsize=(12,12))\n",
        "    data_obj = pickle.load(open(data_location, 'rb'))\n",
        "    for i, w in enumerate(data_obj['vocab']):\n",
        "        pylab.text(mapped_X[i, 0], mapped_X[i, 1], w)\n",
        "    pylab.xlim(mapped_X[:, 0].min(), mapped_X[:, 0].max())\n",
        "    pylab.ylim(mapped_X[:, 1].min(), mapped_X[:, 1].max())\n",
        "    pylab.show()\n",
        "\n",
        "def plot_2d_GLoVE_representation(W_final, b_final):\n",
        "    \"\"\"Plot a 2-D visualization of the learned representations.\"\"\"\n",
        "    mapped_X = W_final\n",
        "    pylab.figure(figsize=(12,12))\n",
        "    data_obj = pickle.load(open(data_location, 'rb'))\n",
        "    for i, w in enumerate(data_obj['vocab']):\n",
        "        pylab.text(mapped_X[i, 0], mapped_X[i, 1], w)\n",
        "    pylab.xlim(mapped_X[:, 0].min(), mapped_X[:, 0].max())\n",
        "    pylab.ylim(mapped_X[:, 1].min(), mapped_X[:, 1].max())\n",
        "    pylab.show()"
      ],
      "execution_count": null,
      "outputs": []
    },
    {
      "cell_type": "markdown",
      "metadata": {
        "id": "Jo2SoHzhCPqf"
      },
      "source": [
        "\n",
        "\n"
      ]
    },
    {
      "cell_type": "code",
      "metadata": {
        "id": "Q6mSwi9zCPqf"
      },
      "source": [
        "tsne_plot_representation(trained_model)"
      ],
      "execution_count": null,
      "outputs": []
    },
    {
      "cell_type": "code",
      "metadata": {
        "id": "4RldUQuJCPqg"
      },
      "source": [
        "tsne_plot_GLoVE_representation(W_final, b_final)"
      ],
      "execution_count": null,
      "outputs": []
    },
    {
      "cell_type": "code",
      "metadata": {
        "id": "nupzmyYjCPqg"
      },
      "source": [
        "plot_2d_GLoVE_representation(W_final_2d, b_final_2d)"
      ],
      "execution_count": null,
      "outputs": []
    },
    {
      "cell_type": "code",
      "metadata": {
        "id": "DUglR9GTCPqg"
      },
      "source": [
        "tsne_plot_GLoVE_representation(W_final_2d, b_final_2d)"
      ],
      "execution_count": null,
      "outputs": []
    },
    {
      "cell_type": "markdown",
      "metadata": {
        "id": "k4JwItyJOjN1"
      },
      "source": [
        "## 4.2 Word Embedding Arithmetic"
      ]
    },
    {
      "cell_type": "markdown",
      "metadata": {
        "id": "A91M2iPuSQGw"
      },
      "source": [
        "A word analogy f is an invertible transformation that holds over a set of ordered pairs S iff $\\forall (x,y) \\in s, f(x) = y \\wedge f^{-1}(y) = x$. When f is of the form $\\overrightarrow{\\text{x}} \\to \\overrightarrow{\\text{x}} +\n",
        "         \\overrightarrow{\\text{r}}$ , it is a linear word analogy.\n",
        "        \n",
        "Arithmetic operators can be applied to vectors generated by language models. There is a famous example:\n",
        "        $\\overrightarrow{\\text{king}} - \\overrightarrow{\\text{man}} +\n",
        "         \\overrightarrow{\\text{women}} \\approx\n",
        "         \\overrightarrow{\\text{queen}}$. These linear word analogies form a parallelogram structure in the vector space (Ethayarajh, Duvenaud, \\& Hirst, 2019).\n",
        "        "
      ]
    },
    {
      "cell_type": "markdown",
      "metadata": {
        "id": "5t4EpT8DSZDo"
      },
      "source": [
        "![parallelogram.png](data:image/png;base64,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)"
      ]
    },
    {
      "cell_type": "markdown",
      "metadata": {
        "id": "Lzz0ObdmSf9G"
      },
      "source": [
        "In this section, we will explore a property of *linear word analogies*. A linear word analogy holds exactly over a set of ordered word pairs S iff $\\parallel\\overrightarrow{\\text{x}} - \\overrightarrow{\\text{y}}\\parallel^2$ is the same for every word pair, $\\parallel\\overrightarrow{\\text{a}} - \\overrightarrow{\\text{x}}\\parallel^2 = \\parallel\\overrightarrow{\\text{b}} - \\overrightarrow{\\text{y}}\\parallel^2$ for any two word pairs, and the vectors of all words in S are coplanar.\n",
        "\n",
        "We will use the embeddings from the symmetric, asymmetrical GloVe model, and the neural network model from part 3 to perform arithmetics. The method to perform the arithmetic and retrieve the closest word embeddings is provided in the notebook using the method `find_word_analogy`:\n",
        "\n",
        "*   `find_word_analogy` returns the closest word to the word embedding calculated from the 3 given words. \n",
        "\n",
        "\n",
        "\n"
      ]
    },
    {
      "cell_type": "code",
      "metadata": {
        "id": "k4I4Go6quAZu"
      },
      "source": [
        "np.random.seed(1)\n",
        "n_epochs = 500  # A hyperparameter.  You can play with this if you want.\n",
        "embedding_dims = 16\n",
        "\n",
        "W_final_sym, W_tilde_final_asym, W_final_asym = None, None, None\n",
        "init_variance = 0.1  # A hyperparameter.  You can play with this if you want.\n",
        "W = init_variance * np.random.normal(size=(vocab_size, embedding_dim))\n",
        "W_tilde = init_variance * np.random.normal(size=(vocab_size, embedding_dim))\n",
        "b = init_variance * np.random.normal(size=(vocab_size, 1))\n",
        "b_tilde = init_variance * np.random.normal(size=(vocab_size, 1))\n",
        "\n",
        "# Symmetric model\n",
        "W_final_sym, _, b_final_sym, _ , _, _ = train_GLoVE(W, None, b, None, asym_log_co_occurence_train, asym_log_co_occurence_valid, n_epochs, do_print=do_print)\n",
        "# Asymmetric model\n",
        "W_final_asym, W_tilde_final_asym, b_final_asym, b_tilde_final_asym, _, _ = train_GLoVE(W, W_tilde, b, b_tilde, asym_log_co_occurence_train, asym_log_co_occurence_valid, n_epochs, do_print=do_print)\n"
      ],
      "execution_count": null,
      "outputs": []
    },
    {
      "cell_type": "markdown",
      "metadata": {
        "id": "UgoaVkgJTFSp"
      },
      "source": [
        "You will need to use different embeddings to evaluate the word analogy"
      ]
    },
    {
      "cell_type": "code",
      "metadata": {
        "id": "is7tTEqvlR84"
      },
      "source": [
        "def get_word_embedding(word, embedding_weights):\n",
        "    assert word in data['vocab'], 'Word not in vocab'\n",
        "    return embedding_weights[data['vocab'].index(word)]"
      ],
      "execution_count": null,
      "outputs": []
    },
    {
      "cell_type": "code",
      "metadata": {
        "id": "TeDHgzxSjMIY"
      },
      "source": [
        "# word4 = word1 - word2 + word3\n",
        "def find_word_analogy(word1, word2, word3, embedding_weights):\n",
        "    embedding1 = get_word_embedding(word1, embedding_weights)\n",
        "    embedding2 = get_word_embedding(word2, embedding_weights)\n",
        "    embedding3 = get_word_embedding(word3, embedding_weights)\n",
        "    target_embedding = embedding1 - embedding2 + embedding3\n",
        "\n",
        "    # Compute distance to every other word.\n",
        "    diff = embedding_weights - target_embedding.reshape((1, -1))\n",
        "    distance = np.sqrt(np.sum(diff ** 2, axis=1))\n",
        "\n",
        "    # Sort by distance.\n",
        "    order = np.argsort(distance)[:10]\n",
        "    print(\"The top 10 closest words to emb({}) - emb({}) + emb({}) are:\".format(word1, word2, word3))\n",
        "    for i in order:\n",
        "        print('{}: {}'.format(data['vocab'][i], distance[i]))"
      ],
      "execution_count": null,
      "outputs": []
    },
    {
      "cell_type": "markdown",
      "metadata": {
        "id": "ALMGMdWiUwHJ"
      },
      "source": [
        "In this part of the assignment, you will use the find_word_analogy function to analyze quadruplets from the vocabulary.\n",
        "\n",
        "### 4.2.1 Specific example\n",
        " Perform arithmetic on words *her*, *him*, *her*, using: (1) symmetric, (2) averaging asymmetrical GloVe embedding, (3)  concatenating asymmetrical GloVe embedding, and (4) neural network word embedding from part 3. That is, we are trying to find the closet word embedding vector to the vector \n",
        " \n",
        " $$emb(he) - emb(him) + emb(her)$$ \n",
        " \n",
        "For each sets of embeddings, you should list out: (1) what the closest word that is not one of those three words, and (2) the distance to that closest word. Is the closest word *she*? Compare the results with the tSNE plots."
      ]
    },
    {
      "cell_type": "markdown",
      "metadata": {
        "id": "f-vxCq5JDloF"
      },
      "source": [
        "4.2.1 **Answer**: **\\*\\*TODO: Write Part 4.1 answer here\\*\\***"
      ]
    },
    {
      "cell_type": "code",
      "metadata": {
        "id": "o4u0A6R4nMHJ"
      },
      "source": [
        "## GloVe embeddings\n",
        "embedding_weights = W_final_sym # Symmetric GloVe\n",
        "find_word_analogy('he', 'him', 'her', embedding_weights)"
      ],
      "execution_count": null,
      "outputs": []
    },
    {
      "cell_type": "code",
      "metadata": {
        "id": "Fe-20TCtLvOZ"
      },
      "source": [
        "# Concatenation of W_final_asym, W_tilde_final_asym\n",
        "embedding_weights = np.concatenate((W_tilde_final_asym, W_final_asym), axis=1) \n",
        "find_word_analogy('he', 'him', 'her', embedding_weights)"
      ],
      "execution_count": null,
      "outputs": []
    },
    {
      "cell_type": "code",
      "metadata": {
        "id": "XcYSXLEhLzgM"
      },
      "source": [
        "# Averaging asymmetric GLoVE vectors\n",
        "embedding_weights = (W_final_asym + W_tilde_final_asym)/2 \n",
        "find_word_analogy('he', 'him', 'her', embedding_weights)"
      ],
      "execution_count": null,
      "outputs": []
    },
    {
      "cell_type": "code",
      "metadata": {
        "id": "lCRSa0_2L-_9"
      },
      "source": [
        "## Neural Netework Word Embeddings\n",
        "embedding_weights = trained_model.params.word_embedding_weights # Neural network from part3\n",
        "find_word_analogy('he', 'him', 'her', embedding_weights)"
      ],
      "execution_count": null,
      "outputs": []
    },
    {
      "cell_type": "markdown",
      "metadata": {
        "id": "UfRDv7KFDedw"
      },
      "source": [
        "### 4.2.2 Finding another Quadruplet\n",
        "\n",
        "Pick another quadruplet from the vocabulary which displays the parallelogram property (and also makes sense sementically) and repeat the above proceduces. Compare and comment on the results from arithmetic and tSNE plots. "
      ]
    },
    {
      "cell_type": "markdown",
      "metadata": {
        "id": "GbiQEUSYD6k2"
      },
      "source": [
        "4.2.2 **Answer**: **\\*\\*TODO: Write Part 4.1 answer here\\*\\***"
      ]
    },
    {
      "cell_type": "code",
      "metadata": {
        "id": "0vCAEEgsMCS6"
      },
      "source": [
        "# Repeat above with a different set of words"
      ],
      "execution_count": null,
      "outputs": []
    },
    {
      "cell_type": "markdown",
      "metadata": {
        "id": "-DVGkTS3CPqi"
      },
      "source": [
        "# What you have to submit\n",
        "\n",
        "For reference, here is everything you need to hand in. See the top of this handout for submission\n",
        "directions.\n",
        "\n",
        "\n",
        "\n",
        "*   A PDF file titled *a1-writeup.pdf* containing the following:\n",
        "  * [ ] **Part 1**: Questions 1.1, 1.2, 1.3, 1.4. Completed code for `grad_GLoVE` function.\n",
        "  * [ ] **Part 2**: Questions 2.1, 2.2, 2.3.\n",
        "  * [ ] **Part 3**: Completed code for `compute_loss_derivative()` (3.1), `back_propagate()` (3.2) functions, and the output of `print_gradients()` (3.3)\n",
        "  * [ ] **Part 4**: Questions 4.1, 4.2.1, 4.2.2\n",
        "*   Your code file `a1-code.ipynb`\n"
      ]
    },
    {
      "cell_type": "code",
      "metadata": {
        "id": "jcVh0VMgFGsW"
      },
      "source": [
        ""
      ],
      "execution_count": null,
      "outputs": []
    }
  ]
}